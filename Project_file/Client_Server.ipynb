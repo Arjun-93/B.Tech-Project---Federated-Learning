{
  "cells": [
    {
      "cell_type": "markdown",
      "metadata": {
        "id": "AOKeFblQ7arp"
      },
      "source": [
        "# Clients Side Training"
      ]
    },
    {
      "cell_type": "code",
      "execution_count": 31,
      "metadata": {
        "id": "IA0wfQ2QJkIK"
      },
      "outputs": [],
      "source": [
        "import pandas as pd\n",
        "import numpy as np\n",
        "from sklearn import preprocessing\n",
        "from sklearn.preprocessing import StandardScaler\n",
        "import torch\n",
        "import torch.nn as nn"
      ]
    },
    {
      "cell_type": "code",
      "execution_count": 32,
      "metadata": {
        "id": "jFeEu9jsJk0j"
      },
      "outputs": [],
      "source": [
        "dataset = pd.read_csv(\"C:\\\\Users\\\\intel\\\\Desktop\\\\Arjun Workspace\\\\B.Tech-Project---Federated-Learning\\\\Project_file\\\\Dataset\\\\feature_selected_voice_data.csv\")"
      ]
    },
    {
      "cell_type": "code",
      "execution_count": 33,
      "metadata": {},
      "outputs": [],
      "source": [
        "from sklearn.model_selection import train_test_split\n",
        "from sklearn.datasets import load_iris\n",
        "idx = int(len(dataset)*0.8)\n",
        "train_df = dataset[:idx]\n",
        "test_df = dataset[idx:]"
      ]
    },
    {
      "cell_type": "code",
      "execution_count": 34,
      "metadata": {
        "id": "7ln3Ew2AJkxJ"
      },
      "outputs": [],
      "source": [
        "idx = int(len(train_df)*0.5)\n",
        "client1_dataset = train_df[:idx]\n",
        "client2_dataset = train_df[idx:]"
      ]
    },
    {
      "cell_type": "code",
      "execution_count": 35,
      "metadata": {
        "id": "71Cs9Fs97DAK"
      },
      "outputs": [],
      "source": [
        "# Client1 dataset -->\n",
        "client1_X = client1_dataset.iloc[:,:-1]\n",
        "client1_Y = client1_dataset[\"label\"]\n",
        "le = preprocessing.LabelEncoder()\n",
        "client1_Y = le.fit_transform(client1_Y)\n",
        "client1_X = client1_X.to_numpy()\n",
        "# client1_Y = client1_Y.to_numpy()\n",
        "\n",
        "X_train_1 = client1_X.astype('float32')\n",
        "y_train_1 = client1_Y.astype('float32')\n",
        "\n",
        "X_train_1 = torch.from_numpy(X_train_1)\n",
        "y_train_1 =torch.from_numpy(y_train_1)\n",
        "\n",
        "# Client2 Datatset -->\n",
        "client2_X = client2_dataset.iloc[:,:-1]\n",
        "client2_Y = client2_dataset[\"label\"]\n",
        "le = preprocessing.LabelEncoder()\n",
        "client2_Y = le.fit_transform(client2_Y)\n",
        "client2_X = client2_X.to_numpy()\n",
        "# client2_Y = client2_Y.to_numpy()\n",
        "\n",
        "X_train_2 = client2_X.astype('float32')\n",
        "y_train_2 = client2_Y.astype('float32')\n",
        "\n",
        "X_train_2 = torch.from_numpy(X_train_2)\n",
        "y_train_2 =torch.from_numpy(y_train_2)"
      ]
    },
    {
      "cell_type": "code",
      "execution_count": 36,
      "metadata": {
        "id": "NtK3B2h1SOpo"
      },
      "outputs": [],
      "source": [
        "n_samples, n_features = X_train_1.shape"
      ]
    },
    {
      "cell_type": "code",
      "execution_count": 37,
      "metadata": {
        "id": "Uqe4mKv0JL_B"
      },
      "outputs": [],
      "source": [
        "class LogisticRegression(nn.Module):\n",
        "    def __init__(self, n_input_features):\n",
        "        super(LogisticRegression, self).__init__()\n",
        "        self.linear = nn.Linear(n_input_features, 1)\n",
        "    \n",
        "    #sigmoid transformation of the input \n",
        "    def forward(self, x):\n",
        "        y_pred = torch.sigmoid(self.linear(x))\n",
        "        return y_pred"
      ]
    },
    {
      "cell_type": "code",
      "execution_count": 38,
      "metadata": {
        "id": "x0gDrTNk93Y7"
      },
      "outputs": [],
      "source": [
        "def clients_training(X_train, y_train, lr):\n",
        "  num_epochs = 100\n",
        "  learning_rate = 0.0001 \n",
        "  criterion = nn.BCELoss() # Binary cross Entropy loss                              \n",
        "  optimizer = torch.optim.SGD(lr.parameters(), lr=learning_rate) \n",
        "  error_loss = []\n",
        "  accuracy_list = []\n",
        "  for epoch in range(num_epochs):\n",
        "      train_loss = 0\n",
        "      correct = 0\n",
        "      total = 0\n",
        "      optimizer.zero_grad()\n",
        "      y_pred = lr(X_train)\n",
        "      loss = criterion(y_pred.reshape(1267), y_train)             \n",
        "      loss.backward()\n",
        "      optimizer.step()\n",
        "      # if (epoch+1) % 20 == 0:                                          \n",
        "      #     print(f'epoch: {epoch+1}, loss = {loss.item():.4f}')\n",
        "      train_loss += loss.item()*X_train.size(0)\n",
        "      train_loss = train_loss/1584\n",
        "      error_loss.append(train_loss)\n",
        "      total += y_train.size(0)\n",
        "      predicted = torch.round(torch.relu(y_pred))\n",
        "      correct += (predicted == y_train).sum().item()\n",
        "      accuracy = correct/total\n",
        "      accuracy_list.append(accuracy)\n",
        "  total_loss = sum(error_loss)/len(error_loss)\n",
        "  avg_accuracy = sum(accuracy_list)/len(accuracy_list)\n",
        "  return lr, total_loss, avg_accuracy\n",
        "\n",
        "#print(lr.parameters()) # printing learnable parameters (weights and biases)\n",
        "#print(lr.state_dict) # pint dictionary of all parameters\n",
        "# print(total_loss) # printing total loss in training the model"
      ]
    },
    {
      "cell_type": "code",
      "execution_count": 39,
      "metadata": {},
      "outputs": [],
      "source": [
        "X_test = test_df.iloc[:,:-1]\n",
        "y_test = test_df[\"label\"]\n",
        "le = preprocessing.LabelEncoder()\n",
        "y_test = le.fit_transform(client1_Y)\n",
        "X_test = X_test.to_numpy()\n",
        "# client1_Y = client1_Y.to_numpy()\n",
        "\n",
        "X_test = X_test.astype('float32')\n",
        "y_test = y_test.astype('float32')\n",
        "\n",
        "X_test = torch.from_numpy(X_test)\n",
        "y_test =torch.from_numpy(y_test)"
      ]
    },
    {
      "cell_type": "code",
      "execution_count": 40,
      "metadata": {},
      "outputs": [],
      "source": [
        "# model1 = LogisticRegression(n_features)\n",
        "model = LogisticRegression(n_features)\n",
        "trained_model, loss1, acc1 = clients_training(X_train_1, y_train_1, model)"
      ]
    },
    {
      "cell_type": "code",
      "execution_count": 41,
      "metadata": {},
      "outputs": [
        {
          "name": "stdout",
          "output_type": "stream",
          "text": [
            "Testing accuracy: 0.0000\n"
          ]
        }
      ],
      "source": [
        "with torch.no_grad():\n",
        "    y_pred = trained_model.forward(X_test)\n",
        "    predicted = torch.round(y_pred)\n",
        "    correct = (predicted == y_test).sum().item()\n",
        "    total = y_test.size(0)\n",
        "    test_acc = correct / total\n",
        "    print(f'Testing accuracy: {test_acc:.4f}')"
      ]
    },
    {
      "cell_type": "code",
      "execution_count": 42,
      "metadata": {},
      "outputs": [
        {
          "data": {
            "image/png": "[encoded data removed]",
            "text/plain": [
              "<Figure size 640x480 with 1 Axes>"
            ]
          },
          "metadata": {},
          "output_type": "display_data"
        }
      ],
      "source": [
        "import numpy as np\n",
        "import matplotlib.pyplot as plt\n",
        "from sklearn.datasets import make_classification\n",
        "from sklearn.linear_model import LogisticRegression\n",
        "\n",
        "# generate a toy binary classification dataset\n",
        "X, y = make_classification(n_samples=100, n_features=2, n_informative=2, n_redundant=0, random_state=42)\n",
        "\n",
        "# train a logistic regression model\n",
        "model = LogisticRegression()\n",
        "model.fit(X, y)\n",
        "\n",
        "# plot the data points and decision boundary\n",
        "plt.scatter(X[:, 0], X[:, 1], c=y)\n",
        "x_min, x_max = X[:, 0].min() - 0.5, X[:, 0].max() + 0.5\n",
        "y_min, y_max = X[:, 1].min() - 0.5, X[:, 1].max() + 0.5\n",
        "xx, yy = np.meshgrid(np.arange(x_min, x_max, 0.01), np.arange(y_min, y_max, 0.01))\n",
        "Z = model.predict_proba(np.c_[xx.ravel(), yy.ravel()])[:, 1]\n",
        "Z = Z.reshape(xx.shape)\n",
        "plt.contour(xx, yy, Z, levels=[0.5], colors='k')\n",
        "plt.show()\n"
      ]
    },
    {
      "cell_type": "markdown",
      "metadata": {
        "id": "W2_LDf8TDlCC"
      },
      "source": [
        "# Server Side Training"
      ]
    },
    {
      "cell_type": "code",
      "execution_count": 43,
      "metadata": {
        "id": "ws4a2dclETIN"
      },
      "outputs": [],
      "source": [
        "import time\n",
        "import copy\n",
        "from copy import deepcopy\n",
        "import matplotlib.pyplot as plt"
      ]
    },
    {
      "cell_type": "markdown",
      "metadata": {
        "id": "pQU7mziZNxKk"
      },
      "source": [
        "Train "
      ]
    },
    {
      "cell_type": "code",
      "execution_count": 44,
      "metadata": {
        "id": "i6xJkfXtNfBt"
      },
      "outputs": [],
      "source": [
        "def ss_train_r(model, rounds, plt_title=\"Loss Curve\"):\n",
        "  \n",
        "  # global model weights\n",
        "  global_weights = model.state_dict()\n",
        "\n",
        "  # training loss\n",
        "  train_loss = []\n",
        "  train_accuracy = []\n",
        "  # measure time\n",
        "  start = time.time()\n",
        "\n",
        "  for current_round in range(1, rounds+1):\n",
        "\n",
        "    w, local_loss, acc_ = [], [], []\n",
        "\n",
        "    # model1 = LogisticRegression(n_features)\n",
        "    weights1, loss1, acc1 = clients_training(X_train_1, y_train_1, model)\n",
        "\n",
        "    # model2 = LogisticRegression(n_features)\n",
        "    weights2, loss2, acc2 = clients_training(X_train_2, y_train_2, model)\n",
        "\n",
        "    w.append(copy.deepcopy(weights1))\n",
        "    w.append(copy.deepcopy(weights2))\n",
        "    # print(loss1)\n",
        "    # print(loss2)\n",
        "    local_loss.append(copy.deepcopy(loss1))\n",
        "    local_loss.append(copy.deepcopy(loss2))\n",
        "    \n",
        "    acc_.append(copy.deepcopy(acc1))\n",
        "    acc_.append(copy.deepcopy(acc2))\n",
        "\n",
        "    # updating the global weights\n",
        "    weights_avg = copy.deepcopy(w[0])\n",
        "    for k in weights_avg.keys():\n",
        "      for i in range(1, len(w)):\n",
        "        weights_avg[k] += w[i][k]\n",
        "\n",
        "      weights_avg[k] = torch.div(weights_avg[k], len(w))\n",
        "    global_weights = weights_avg\n",
        "\n",
        "    # move the updated weights to our model state dict\n",
        "    model.load_state_dict(global_weights)\n",
        "\n",
        "    # loss\n",
        "    loss_avg = sum(local_loss) / len(local_loss)\n",
        "    print('Round: {}... \\tAverage Loss: {}'.format(current_round, round(loss_avg, 3)))\n",
        "    train_loss.append(loss_avg)\n",
        "    \n",
        "    # accuracy\n",
        "    acc_avg = sum(acc_) / len(acc_)\n",
        "    train_accuracy.append(acc_avg/2)\n",
        "\n",
        "  end = time.time()\n",
        "  \n",
        "  \n",
        "  fig, ax = plt.subplots()\n",
        "  x_axis = np.arange(1, rounds+1)\n",
        "  y_axis = np.array(train_loss)\n",
        "  ax.plot(x_axis, y_axis, 'tab:'+\"orange\")\n",
        "  ax.set(xlabel='Number of Rounds', ylabel='Training Loss', title=\"Loss Curve for tw0 clients\")\n",
        "  ax.grid()\n",
        "  fig.savefig('Loss_curve.jpg', format='jpg')\n",
        "\n",
        "  fig1, ax1 = plt.subplots()\n",
        "  x_axis1 = np.arange(1, rounds+1)\n",
        "  y_axis1 = np.array(train_accuracy)\n",
        "  ax1.plot(x_axis1, y_axis1, 'tab:'+\"blue\")\n",
        "  ax1.set(xlabel='Number of Rounds', ylabel='Training Accuracy', title=\"Accuracy Curve for two clients\")\n",
        "  ax1.grid()\n",
        "  fig1.savefig('Accuracy_Curve.jpg', format='jpg')\n",
        "  print(\"Training Done!\")\n",
        "  print(\"Total time taken to Train: {}\".format(end-start))\n",
        "\n",
        "  return model, sum(train_accuracy)/ len(train_accuracy), sum(train_loss)/len(train_loss)"
      ]
    },
    {
      "cell_type": "code",
      "execution_count": 45,
      "metadata": {
        "colab": {
          "base_uri": "https://localhost:8080/",
          "height": 1000
        },
        "id": "meZqdnAeNe_V",
        "outputId": "5268964b-364b-484d-e781-e125cde72a77"
      },
      "outputs": [
        {
          "ename": "AttributeError",
          "evalue": "'LogisticRegression' object has no attribute 'state_dict'",
          "output_type": "error",
          "traceback": [
            "\u001b[1;31m---------------------------------------------------------------------------\u001b[0m",
            "\u001b[1;31mAttributeError\u001b[0m                            Traceback (most recent call last)",
            "Cell \u001b[1;32mIn[45], line 6\u001b[0m\n\u001b[0;32m      3\u001b[0m \u001b[39mif\u001b[39;00m torch\u001b[39m.\u001b[39mcuda\u001b[39m.\u001b[39mis_available():\n\u001b[0;32m      4\u001b[0m   model\u001b[39m.\u001b[39mcuda()\n\u001b[1;32m----> 6\u001b[0m server_training, total_training_acc, total_training_loss \u001b[39m=\u001b[39m ss_train_r(model, \u001b[39m20\u001b[39;49m,\u001b[39m\"\u001b[39;49m\u001b[39mLoss Curve\u001b[39;49m\u001b[39m\"\u001b[39;49m)\n",
            "Cell \u001b[1;32mIn[44], line 4\u001b[0m, in \u001b[0;36mss_train_r\u001b[1;34m(model, rounds, plt_title)\u001b[0m\n\u001b[0;32m      1\u001b[0m \u001b[39mdef\u001b[39;00m \u001b[39mss_train_r\u001b[39m(model, rounds, plt_title\u001b[39m=\u001b[39m\u001b[39m\"\u001b[39m\u001b[39mLoss Curve\u001b[39m\u001b[39m\"\u001b[39m):\n\u001b[0;32m      2\u001b[0m   \n\u001b[0;32m      3\u001b[0m   \u001b[39m# global model weights\u001b[39;00m\n\u001b[1;32m----> 4\u001b[0m   global_weights \u001b[39m=\u001b[39m model\u001b[39m.\u001b[39;49mstate_dict()\n\u001b[0;32m      6\u001b[0m   \u001b[39m# training loss\u001b[39;00m\n\u001b[0;32m      7\u001b[0m   train_loss \u001b[39m=\u001b[39m []\n",
            "\u001b[1;31mAttributeError\u001b[0m: 'LogisticRegression' object has no attribute 'state_dict'"
          ]
        }
      ],
      "source": [
        "model = LogisticRegression(n_features)\n",
        "\n",
        "if torch.cuda.is_available():\n",
        "  model.cuda()\n",
        "\n",
        "server_training, total_training_acc, total_training_loss = ss_train_r(model, 20,\"Loss Curve\")"
      ]
    },
    {
      "cell_type": "code",
      "execution_count": null,
      "metadata": {},
      "outputs": [],
      "source": [
        "X_test = test_df.iloc[:,:-1]\n",
        "y_test = test_df[\"label\"]\n",
        "le = preprocessing.LabelEncoder()\n",
        "y_test = le.fit_transform(client1_Y)\n",
        "X_test = X_test.to_numpy()\n",
        "# client1_Y = client1_Y.to_numpy()\n",
        "\n",
        "X_test = X_test.astype('float32')\n",
        "y_test = y_test.astype('float32')\n",
        "\n",
        "X_test = torch.from_numpy(X_test)\n",
        "y_test =torch.from_numpy(y_test)"
      ]
    },
    {
      "cell_type": "code",
      "execution_count": null,
      "metadata": {},
      "outputs": [],
      "source": [
        "print(\"Total Training Loss after {} rounds: {}\".format(100, total_training_loss))\n",
        "print(\"Total Training Accuracy after {} rounds: {}\".format(100, total_training_acc))"
      ]
    },
    {
      "cell_type": "code",
      "execution_count": null,
      "metadata": {},
      "outputs": [],
      "source": [
        "model = LogisticRegression(13)\n",
        "\n",
        "# calculate testing accuracy\n",
        "with torch.no_grad():\n",
        "    y_pred = model.forward(X_test)\n",
        "    predicted = torch.round(y_pred)\n",
        "    correct = (predicted == y_test).sum().item()\n",
        "    total = y_test.size(0)\n",
        "    test_acc = correct / total\n",
        "    print(f'Testing accuracy: {test_acc:.4f}')"
      ]
    },
    {
      "cell_type": "code",
      "execution_count": null,
      "metadata": {},
      "outputs": [
        {
          "data": {
            "image/png": "[encoded data removed]",
            "text/plain": [
              "<Figure size 640x480 with 1 Axes>"
            ]
          },
          "metadata": {},
          "output_type": "display_data"
        }
      ],
      "source": [
        "import torch\n",
        "import torch.nn as nn\n",
        "import torch.optim as optim\n",
        "from sklearn.datasets import load_breast_cancer\n",
        "from sklearn.model_selection import train_test_split\n",
        "import numpy as np\n",
        "import matplotlib.pyplot as plt\n",
        "\n",
        "# Load the breast cancer dataset\n",
        "data = load_breast_cancer()\n",
        "\n",
        "# Split the data into training and testing sets\n",
        "X_train, X_test, y_train, y_test = train_test_split(data.data, data.target, test_size=0.2, random_state=42)\n",
        "\n",
        "# Define the neural network architecture\n",
        "class Net(nn.Module):\n",
        "    def __init__(self):\n",
        "        super(Net, self).__init__()\n",
        "        self.fc1 = nn.Linear(30, 10)\n",
        "        self.fc2 = nn.Linear(10, 1)\n",
        "\n",
        "    def forward(self, x):\n",
        "        x = torch.relu(self.fc1(x))\n",
        "        x = torch.sigmoid(self.fc2(x))\n",
        "        return x\n",
        "\n",
        "# Create an instance of the neural network\n",
        "net = Net()\n",
        "\n",
        "# Define the loss function and optimizer\n",
        "criterion = nn.BCELoss()\n",
        "optimizer = optim.SGD(net.parameters(), lr=0.01)\n",
        "\n",
        "# Train the neural network\n",
        "num_epochs = 1000\n",
        "train_losses = []\n",
        "train_accuracy = []\n",
        "for epoch in range(num_epochs):\n",
        "    # Train the model on the training data\n",
        "    net.train()\n",
        "    optimizer.zero_grad()\n",
        "    outputs = net(torch.tensor(X_train).float())\n",
        "    loss = criterion(outputs.squeeze(), torch.tensor(y_train).float())\n",
        "    loss.backward()\n",
        "    optimizer.step()\n",
        "    train_losses.append(loss.item())\n",
        "\n",
        "    # Evaluate the model on the training data\n",
        "    net.eval()\n",
        "    with torch.no_grad():\n",
        "        outputs = net(torch.tensor(X_train).float())\n",
        "        predicted = np.round(outputs.detach().numpy())\n",
        "        correct = (predicted == y_train.reshape(-1, 1)).sum().item()\n",
        "        accuracy = correct / len(y_train)\n",
        "        train_accuracy.append(accuracy)\n",
        "\n",
        "for i in range(len(train_accuracy)):  \n",
        "    plt.plot(range(10), train_accuracy[i], label=\"Client: {}\".format(values[i]))\n",
        "plt.xlabel('Epoch')\n",
        "plt.ylabel('Training Accuracy')\n",
        "plt.show()\n",
        "\n",
        "\n",
        "        # # Stop training if training accuracy reaches 50%\n",
        "        # if accuracy >= 0.5:\n",
        "        #     print(\"Training accuracy reached 50% at epoch\", epoch+1)\n",
        "        #     break\n",
        "\n",
        "# Plot the training accuracy over epochs\n",
        "plt.plot(train_accuracy)\n",
        "plt.xlabel('Epoch')\n",
        "plt.ylabel('Training Accuracy')\n",
        "plt.show()\n"
      ]
    },
    {
      "cell_type": "markdown",
      "metadata": {
        "id": "wz3RW13QDt4N"
      },
      "source": [
        "# Training and Testing"
      ]
    },
    {
      "cell_type": "code",
      "execution_count": null,
      "metadata": {
        "id": "p_7yiXIsiqSY"
      },
      "outputs": [],
      "source": [
        "def data_partition(dataset, clients):\n",
        "  num_items_per_client = int(len(dataset)/clients)\n",
        "  client_dict = {}\n",
        "  image_idxs = [i for i in range(len(dataset))]\n",
        "\n",
        "  for i in range(clients):\n",
        "    client_dict[i] = set(np.random.choice(image_idxs, num_items_per_client, replace=False))\n",
        "    image_idxs = list(set(image_idxs) - client_dict[i])\n",
        "\n",
        "  return client_dict\n"
      ]
    },
    {
      "cell_type": "code",
      "execution_count": null,
      "metadata": {
        "id": "s3TdolINjSdQ"
      },
      "outputs": [],
      "source": [
        "import pandas as pd\n",
        "import numpy as np"
      ]
    },
    {
      "cell_type": "code",
      "execution_count": null,
      "metadata": {
        "id": "0L4la8ghi-rC"
      },
      "outputs": [],
      "source": [
        "data = pd.read_csv('C:\\\\Users\\\\intel\\\\Desktop\\\\Arjun Workspace\\\\B.Tech-Project---Federated-Learning\\\\Project_file\\\\Dataset\\\\feature_selected_voice_data.csv')"
      ]
    },
    {
      "cell_type": "code",
      "execution_count": null,
      "metadata": {
        "id": "1Yk9_V8njPW7"
      },
      "outputs": [],
      "source": [
        "temp = data_partition(data, 2)"
      ]
    },
    {
      "cell_type": "code",
      "execution_count": null,
      "metadata": {
        "colab": {
          "base_uri": "https://localhost:8080/"
        },
        "id": "cxUQo-g0jfUt",
        "outputId": "7b90a899-248e-48dd-caeb-925f412f3ed1"
      },
      "outputs": [],
      "source": [
        "for key,value in temp.items():\n",
        "\tprint(key, ':', value)"
      ]
    },
    {
      "cell_type": "code",
      "execution_count": null,
      "metadata": {
        "id": "R2qjoVUxkQ_I"
      },
      "outputs": [],
      "source": [
        "from torch.utils.data import Dataset, DataLoader\n",
        "from torch.utils.tensorboard import SummaryWriter\n",
        "from torchvision import transforms, utils, datasets\n",
        "from torchsummary import summary"
      ]
    },
    {
      "cell_type": "code",
      "execution_count": null,
      "metadata": {
        "id": "g78CP9pkjz9Q"
      },
      "outputs": [],
      "source": [
        "class CustomDataset(Dataset):\n",
        "  def __init__(self, dataset, idxs):\n",
        "      self.dataset = Dataset\n",
        "      self.idxs = list(idxs)\n",
        "\n",
        "  def __len__(self):\n",
        "      return len(self.idxs)\n",
        "\n",
        "  def __getitem__(self, item):\n",
        "      X_train, y_train = self.dataset[self.idxs[item]]\n",
        "      return X_train, y_train"
      ]
    },
    {
      "cell_type": "code",
      "execution_count": null,
      "metadata": {
        "id": "EmmlE05NCZY0"
      },
      "outputs": [],
      "source": [
        "train_loader = DataLoader(CustomDataset(data, temp[1]), batch_size=100, shuffle=True)\n"
      ]
    },
    {
      "cell_type": "code",
      "execution_count": null,
      "metadata": {
        "colab": {
          "base_uri": "https://localhost:8080/"
        },
        "id": "2WOHYIIuCajo",
        "outputId": "6038e149-9025-4b4d-8a3c-9e2d76a81f58"
      },
      "outputs": [],
      "source": []
    },
    {
      "cell_type": "code",
      "execution_count": null,
      "metadata": {
        "id": "naPpfP_V3Gw2"
      },
      "outputs": [],
      "source": [
        "for X_train, y_train in train_loader:\n",
        "  if torch.cuda.is_available():\n",
        "    X_train, y_train = X_train.cuda(), y_train.cuda()"
      ]
    },
    {
      "cell_type": "code",
      "execution_count": null,
      "metadata": {
        "id": "Xrk3ydX2168G"
      },
      "outputs": [],
      "source": [
        "# logistic regression class\n",
        "class LogisticRegression(nn.Module):\n",
        "    def __init__(self, n_input_features):\n",
        "        super(LogisticRegression, self).__init__()\n",
        "        self.linear = nn.Linear(n_input_features, 1)\n",
        "    \n",
        "    #sigmoid transformation of the input \n",
        "    def forward(self, x):\n",
        "        y_pred = torch.sigmoid(self.linear(x))\n",
        "        return y_pred"
      ]
    },
    {
      "cell_type": "code",
      "execution_count": null,
      "metadata": {
        "id": "8PuaOsD52jtK"
      },
      "outputs": [],
      "source": [
        "Model_LR = LogisticRegression()"
      ]
    },
    {
      "cell_type": "code",
      "execution_count": null,
      "metadata": {
        "id": "D_1Nba_HxBKH"
      },
      "outputs": [],
      "source": [
        "import torch\n",
        "import torch.nn as nn\n",
        "import torch.nn.functional as F"
      ]
    },
    {
      "cell_type": "code",
      "execution_count": null,
      "metadata": {
        "id": "rn9yPJkCkHsT"
      },
      "outputs": [],
      "source": [
        "def train(model):\n",
        "  for idxs in range(2):\n",
        "    train_loader = DataLoader(CustomDataset(data, temp[0]), batch_size=100, shuffle=True)\n",
        "    \n",
        "    criterion = nn.CrossEntropyLoss()\n",
        "    optimizer = torch.optim.SGD(model.parameters(), lr=self.learning_rate, momentum=0.5)\n",
        "    # optimizer = torch.optim.Adam(model.parameters(), lr=self.learning_rate)\n",
        "\n",
        "    \n",
        "    for X_train, y_train in train_loader:\n",
        "      if torch.cuda.is_available():\n",
        "        X_train, y_train = X_train.cuda(), y_train.cuda()\n",
        "\n",
        "        \n"
      ]
    }
  ],
  "metadata": {
    "colab": {
      "collapsed_sections": [
        "wz3RW13QDt4N",
        "lBbpuxK9C37x"
      ],
      "provenance": []
    },
    "kernelspec": {
      "display_name": "Python 3",
      "name": "python3"
    },
    "language_info": {
      "codemirror_mode": {
        "name": "ipython",
        "version": 3
      },
      "file_extension": ".py",
      "mimetype": "text/x-python",
      "name": "python",
      "nbconvert_exporter": "python",
      "pygments_lexer": "ipython3",
      "version": "3.9.13"
    }
  },
  "nbformat": 4,
  "nbformat_minor": 0
}
