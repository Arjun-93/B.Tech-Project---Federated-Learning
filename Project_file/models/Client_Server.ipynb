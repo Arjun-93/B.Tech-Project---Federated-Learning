{
  "cells": [
    {
      "attachments": {},
      "cell_type": "markdown",
      "metadata": {
        "id": "AOKeFblQ7arp"
      },
      "source": [
        "# Clients Side Training"
      ]
    },
    {
      "cell_type": "code",
      "execution_count": 1,
      "metadata": {
        "id": "IA0wfQ2QJkIK"
      },
      "outputs": [],
      "source": [
        "import pandas as pd\n",
        "import numpy as np\n",
        "from sklearn import preprocessing\n",
        "from sklearn.preprocessing import StandardScaler\n",
        "import torch\n",
        "import torch.nn as nn"
      ]
    },
    {
      "cell_type": "code",
      "execution_count": 3,
      "metadata": {
        "id": "jFeEu9jsJk0j"
      },
      "outputs": [],
      "source": [
        "df = pd.read_csv(\"C:\\\\Users\\\\arjun\\\\OneDrive\\\\Desktop\\\\BTP\\\\B.Tech-Project---Federated-Learning\\\\Project_file\\\\models\\\\feature_selected_voice_data.csv\")"
      ]
    },
    {
      "cell_type": "code",
      "execution_count": 8,
      "metadata": {
        "id": "7ln3Ew2AJkxJ"
      },
      "outputs": [],
      "source": [
        "train_idx = int(len(df)*0.8)\n",
        "test_idx = len(df) - train_idx\n",
        "\n",
        "train_idx2 =  int(train_idx/2)\n",
        "client1_dataset = df[:train_idx2]\n",
        "client2_dataset = df[train_idx2:train_idx]"
      ]
    },
    {
      "cell_type": "code",
      "execution_count": 9,
      "metadata": {},
      "outputs": [
        {
          "name": "stdout",
          "output_type": "stream",
          "text": [
            "(1267, 14)\n",
            "(1267, 14)\n",
            "2534\n",
            "634\n"
          ]
        }
      ],
      "source": [
        "print(client1_dataset.shape)\n",
        "print(client2_dataset.shape)\n",
        "print(train_idx)\n",
        "print(test_idx)"
      ]
    },
    {
      "cell_type": "code",
      "execution_count": 4,
      "metadata": {
        "id": "71Cs9Fs97DAK"
      },
      "outputs": [],
      "source": [
        "# Client1 dataset -->\n",
        "client1_X = client1_dataset.iloc[:,:-1]\n",
        "client1_Y = client1_dataset[\"label\"]\n",
        "le = preprocessing.LabelEncoder()\n",
        "client1_Y = le.fit_transform(client1_Y)\n",
        "client1_X = client1_X.to_numpy()\n",
        "# client1_Y = client1_Y.to_numpy()\n",
        "\n",
        "X_train_1 = client1_X.astype('float32')\n",
        "y_train_1 = client1_Y.astype('float32')\n",
        "\n",
        "X_train_1 = torch.from_numpy(X_train_1)\n",
        "y_train_1 =torch.from_numpy(y_train_1)\n",
        "\n",
        "# Client2 Datatset -->\n",
        "client2_X = client2_dataset.iloc[:,:-1]\n",
        "client2_Y = client2_dataset[\"label\"]\n",
        "le = preprocessing.LabelEncoder()\n",
        "client2_Y = le.fit_transform(client2_Y)\n",
        "client2_X = client2_X.to_numpy()\n",
        "# client2_Y = client2_Y.to_numpy()\n",
        "\n",
        "X_train_2 = client2_X.astype('float32')\n",
        "y_train_2 = client2_Y.astype('float32')\n",
        "\n",
        "X_train_2 = torch.from_numpy(X_train_2)\n",
        "y_train_2 =torch.from_numpy(y_train_2)"
      ]
    },
    {
      "cell_type": "code",
      "execution_count": 5,
      "metadata": {
        "id": "NtK3B2h1SOpo"
      },
      "outputs": [],
      "source": [
        "n_samples, n_features = X_train_1.shape"
      ]
    },
    {
      "cell_type": "code",
      "execution_count": 6,
      "metadata": {
        "id": "Uqe4mKv0JL_B"
      },
      "outputs": [],
      "source": [
        "class LogisticRegression(nn.Module):\n",
        "    def __init__(self, n_input_features):\n",
        "        super(LogisticRegression, self).__init__()\n",
        "        self.linear = nn.Linear(n_input_features, 1)\n",
        "    \n",
        "    #sigmoid transformation of the input \n",
        "    def forward(self, x):\n",
        "        y_pred = torch.sigmoid(self.linear(x))\n",
        "        return y_pred"
      ]
    },
    {
      "cell_type": "code",
      "execution_count": 7,
      "metadata": {
        "id": "x0gDrTNk93Y7"
      },
      "outputs": [],
      "source": [
        "def clients_training(X_train, y_train, lr):\n",
        "  num_epochs = 500\n",
        "  learning_rate = 0.0001 \n",
        "  criterion = nn.BCELoss() # Binary cross Entropy loss                              \n",
        "  optimizer = torch.optim.SGD(lr.parameters(), lr=learning_rate) \n",
        "  error_loss = []\n",
        "  for epoch in range(num_epochs):\n",
        "      train_loss = 0\n",
        "      optimizer.zero_grad()\n",
        "      y_pred = lr(X_train)\n",
        "      loss = criterion(y_pred.reshape(1584), y_train)             \n",
        "      loss.backward()\n",
        "      optimizer.step()\n",
        "      # if (epoch+1) % 20 == 0:                                          \n",
        "      #     print(f'epoch: {epoch+1}, loss = {loss.item():.4f}')\n",
        "      train_loss += loss.item()*X_train.size(0)\n",
        "      train_loss = train_loss/1584\n",
        "      error_loss.append(train_loss)\n",
        "  total_loss = sum(error_loss)/len(error_loss)\n",
        "  return lr.state_dict(), total_loss\n",
        "\n",
        "#print(lr.parameters()) # printing learnable parameters (weights and biases)\n",
        "#print(lr.state_dict) # pint dictionary of all parameters\n",
        "# print(total_loss) # printing total loss in training the model"
      ]
    },
    {
      "cell_type": "code",
      "execution_count": 8,
      "metadata": {
        "id": "_rTbOsxh93WU"
      },
      "outputs": [],
      "source": [
        "# weights, loss = clients_training(X_train_1, y_train_1)"
      ]
    },
    {
      "attachments": {},
      "cell_type": "markdown",
      "metadata": {
        "id": "W2_LDf8TDlCC"
      },
      "source": [
        "# Server Side Training"
      ]
    },
    {
      "cell_type": "code",
      "execution_count": 9,
      "metadata": {
        "id": "ws4a2dclETIN"
      },
      "outputs": [],
      "source": [
        "import time\n",
        "import copy\n",
        "from copy import deepcopy\n",
        "import matplotlib.pyplot as plt"
      ]
    },
    {
      "attachments": {},
      "cell_type": "markdown",
      "metadata": {
        "id": "pQU7mziZNxKk"
      },
      "source": [
        "Train "
      ]
    },
    {
      "cell_type": "code",
      "execution_count": 10,
      "metadata": {
        "id": "i6xJkfXtNfBt"
      },
      "outputs": [],
      "source": [
        "def ss_train_r(model, rounds, plt_title=\"Loss Curve\"):\n",
        "\n",
        "  \n",
        "  # global model weights\n",
        "  global_weights = model.state_dict()\n",
        "\n",
        "  # training loss\n",
        "  train_loss = []\n",
        "\n",
        "  # measure time\n",
        "  start = time.time()\n",
        "\n",
        "\n",
        "  for current_round in range(1, rounds+1):\n",
        "\n",
        "    w, local_loss = [], []\n",
        "\n",
        "    # model1 = LogisticRegression(n_features)\n",
        "    weights1, loss1 = clients_training(X_train_1, y_train_1, model)\n",
        "\n",
        "    # model2 = LogisticRegression(n_features)\n",
        "    weights2, loss2 = clients_training(X_train_2, y_train_2, model)\n",
        "\n",
        "    w.append(copy.deepcopy(weights1))\n",
        "    w.append(copy.deepcopy(weights2))\n",
        "    # print(loss1)\n",
        "    # print(loss2)\n",
        "    local_loss.append(copy.deepcopy(loss1))\n",
        "    local_loss.append(copy.deepcopy(loss2))\n",
        "\n",
        "    # updating the global weights\n",
        "    weights_avg = copy.deepcopy(w[0])\n",
        "    for k in weights_avg.keys():\n",
        "      for i in range(1, len(w)):\n",
        "        weights_avg[k] += w[i][k]\n",
        "\n",
        "      weights_avg[k] = torch.div(weights_avg[k], len(w))\n",
        "    global_weights = weights_avg\n",
        "\n",
        "    # move the updated weights to our model state dict\n",
        "    model.load_state_dict(global_weights)\n",
        "\n",
        "    # loss\n",
        "    loss_avg = sum(local_loss) / len(local_loss)\n",
        "    print('Round: {}... \\tAverage Loss: {}'.format(current_round, round(loss_avg, 3)))\n",
        "    train_loss.append(loss_avg)\n",
        "\n",
        "  plt.plot(train_loss)\n",
        "  end = time.time()\n",
        "  print(\"Training Done!\")\n",
        "  print(\"Total time taken to Train: {}\".format(end-start))\n",
        "\n",
        "  return model"
      ]
    },
    {
      "cell_type": "code",
      "execution_count": 11,
      "metadata": {
        "colab": {
          "base_uri": "https://localhost:8080/",
          "height": 1000
        },
        "id": "meZqdnAeNe_V",
        "outputId": "5268964b-364b-484d-e781-e125cde72a77"
      },
      "outputs": [
        {
          "name": "stdout",
          "output_type": "stream",
          "text": [
            "Round: 1... \tAverage Loss: 1.503\n",
            "Round: 2... \tAverage Loss: 0.145\n",
            "Round: 3... \tAverage Loss: 0.098\n",
            "Round: 4... \tAverage Loss: 0.075\n",
            "Round: 5... \tAverage Loss: 0.062\n",
            "Round: 6... \tAverage Loss: 0.053\n",
            "Round: 7... \tAverage Loss: 0.046\n",
            "Round: 8... \tAverage Loss: 0.041\n",
            "Round: 9... \tAverage Loss: 0.037\n",
            "Round: 10... \tAverage Loss: 0.034\n",
            "Round: 11... \tAverage Loss: 0.031\n",
            "Round: 12... \tAverage Loss: 0.029\n",
            "Round: 13... \tAverage Loss: 0.027\n",
            "Round: 14... \tAverage Loss: 0.025\n",
            "Round: 15... \tAverage Loss: 0.024\n",
            "Round: 16... \tAverage Loss: 0.023\n",
            "Round: 17... \tAverage Loss: 0.021\n",
            "Round: 18... \tAverage Loss: 0.02\n",
            "Round: 19... \tAverage Loss: 0.019\n",
            "Round: 20... \tAverage Loss: 0.019\n",
            "Round: 21... \tAverage Loss: 0.018\n",
            "Round: 22... \tAverage Loss: 0.017\n",
            "Round: 23... \tAverage Loss: 0.016\n",
            "Round: 24... \tAverage Loss: 0.016\n",
            "Round: 25... \tAverage Loss: 0.015\n",
            "Round: 26... \tAverage Loss: 0.015\n",
            "Round: 27... \tAverage Loss: 0.014\n",
            "Round: 28... \tAverage Loss: 0.014\n",
            "Round: 29... \tAverage Loss: 0.013\n",
            "Round: 30... \tAverage Loss: 0.013\n",
            "Round: 31... \tAverage Loss: 0.013\n",
            "Round: 32... \tAverage Loss: 0.012\n",
            "Round: 33... \tAverage Loss: 0.012\n",
            "Round: 34... \tAverage Loss: 0.012\n",
            "Round: 35... \tAverage Loss: 0.011\n",
            "Round: 36... \tAverage Loss: 0.011\n",
            "Round: 37... \tAverage Loss: 0.011\n",
            "Round: 38... \tAverage Loss: 0.011\n",
            "Round: 39... \tAverage Loss: 0.01\n",
            "Round: 40... \tAverage Loss: 0.01\n",
            "Round: 41... \tAverage Loss: 0.01\n",
            "Round: 42... \tAverage Loss: 0.01\n",
            "Round: 43... \tAverage Loss: 0.01\n",
            "Round: 44... \tAverage Loss: 0.009\n",
            "Round: 45... \tAverage Loss: 0.009\n",
            "Round: 46... \tAverage Loss: 0.009\n",
            "Round: 47... \tAverage Loss: 0.009\n",
            "Round: 48... \tAverage Loss: 0.009\n",
            "Round: 49... \tAverage Loss: 0.009\n",
            "Round: 50... \tAverage Loss: 0.008\n",
            "Round: 51... \tAverage Loss: 0.008\n",
            "Round: 52... \tAverage Loss: 0.008\n",
            "Round: 53... \tAverage Loss: 0.008\n",
            "Round: 54... \tAverage Loss: 0.008\n",
            "Round: 55... \tAverage Loss: 0.008\n",
            "Round: 56... \tAverage Loss: 0.008\n",
            "Round: 57... \tAverage Loss: 0.008\n",
            "Round: 58... \tAverage Loss: 0.007\n",
            "Round: 59... \tAverage Loss: 0.007\n",
            "Round: 60... \tAverage Loss: 0.007\n",
            "Round: 61... \tAverage Loss: 0.007\n",
            "Round: 62... \tAverage Loss: 0.007\n",
            "Round: 63... \tAverage Loss: 0.007\n",
            "Round: 64... \tAverage Loss: 0.007\n",
            "Round: 65... \tAverage Loss: 0.007\n",
            "Round: 66... \tAverage Loss: 0.007\n",
            "Round: 67... \tAverage Loss: 0.007\n",
            "Round: 68... \tAverage Loss: 0.006\n",
            "Round: 69... \tAverage Loss: 0.006\n",
            "Round: 70... \tAverage Loss: 0.006\n",
            "Round: 71... \tAverage Loss: 0.006\n",
            "Round: 72... \tAverage Loss: 0.006\n",
            "Round: 73... \tAverage Loss: 0.006\n",
            "Round: 74... \tAverage Loss: 0.006\n",
            "Round: 75... \tAverage Loss: 0.006\n",
            "Round: 76... \tAverage Loss: 0.006\n",
            "Round: 77... \tAverage Loss: 0.006\n",
            "Round: 78... \tAverage Loss: 0.006\n",
            "Round: 79... \tAverage Loss: 0.006\n",
            "Round: 80... \tAverage Loss: 0.006\n",
            "Round: 81... \tAverage Loss: 0.006\n",
            "Round: 82... \tAverage Loss: 0.005\n",
            "Round: 83... \tAverage Loss: 0.005\n",
            "Round: 84... \tAverage Loss: 0.005\n",
            "Round: 85... \tAverage Loss: 0.005\n",
            "Round: 86... \tAverage Loss: 0.005\n",
            "Round: 87... \tAverage Loss: 0.005\n",
            "Round: 88... \tAverage Loss: 0.005\n",
            "Round: 89... \tAverage Loss: 0.005\n",
            "Round: 90... \tAverage Loss: 0.005\n",
            "Round: 91... \tAverage Loss: 0.005\n",
            "Round: 92... \tAverage Loss: 0.005\n",
            "Round: 93... \tAverage Loss: 0.005\n",
            "Round: 94... \tAverage Loss: 0.005\n",
            "Round: 95... \tAverage Loss: 0.005\n",
            "Round: 96... \tAverage Loss: 0.005\n",
            "Round: 97... \tAverage Loss: 0.005\n",
            "Round: 98... \tAverage Loss: 0.005\n",
            "Round: 99... \tAverage Loss: 0.005\n",
            "Round: 100... \tAverage Loss: 0.005\n",
            "Training Done!\n",
            "Total time taken to Train: 32.70249629020691\n"
          ]
        },
        {
          "data": {
            "image/png": "[encoded data removed]",
            "text/plain": [
              "<Figure size 432x288 with 1 Axes>"
            ]
          },
          "metadata": {
            "needs_background": "light"
          },
          "output_type": "display_data"
        }
      ],
      "source": [
        "model = LogisticRegression(n_features)\n",
        "\n",
        "if torch.cuda.is_available():\n",
        "  model.cuda()\n",
        "\n",
        "server_training = ss_train_r(model, 100,\"Loss Curve\")"
      ]
    },
    {
      "attachments": {},
      "cell_type": "markdown",
      "metadata": {
        "id": "wz3RW13QDt4N"
      },
      "source": [
        "# Training and Testing"
      ]
    },
    {
      "cell_type": "code",
      "execution_count": 35,
      "metadata": {
        "id": "p_7yiXIsiqSY"
      },
      "outputs": [],
      "source": [
        "def data_partition(dataset, clients):\n",
        "  num_items_per_client = int(len(dataset)/clients)\n",
        "  client_dict = {}\n",
        "  image_idxs = [i for i in range(len(dataset))]\n",
        "\n",
        "  for i in range(clients):\n",
        "    client_dict[i] = set(np.random.choice(image_idxs, num_items_per_client, replace=False))\n",
        "    image_idxs = list(set(image_idxs) - client_dict[i])\n",
        "\n",
        "  return client_dict\n"
      ]
    },
    {
      "cell_type": "code",
      "execution_count": 36,
      "metadata": {
        "id": "s3TdolINjSdQ"
      },
      "outputs": [],
      "source": [
        "import pandas as pd\n",
        "import numpy as np"
      ]
    },
    {
      "cell_type": "code",
      "execution_count": 37,
      "metadata": {
        "id": "0L4la8ghi-rC"
      },
      "outputs": [],
      "source": [
        "data = pd.read_csv(\"/content/feature_selected_voice_data.csv\")"
      ]
    },
    {
      "cell_type": "code",
      "execution_count": 38,
      "metadata": {
        "id": "1Yk9_V8njPW7"
      },
      "outputs": [],
      "source": [
        "temp = data_partition(data, 2)"
      ]
    },
    {
      "cell_type": "code",
      "execution_count": 39,
      "metadata": {
        "colab": {
          "base_uri": "https://localhost:8080/"
        },
        "id": "cxUQo-g0jfUt",
        "outputId": "7b90a899-248e-48dd-caeb-925f412f3ed1"
      },
      "outputs": [
        {
          "name": "stdout",
          "output_type": "stream",
          "text": [
            "0 : {2, 3, 4, 5, 6, 9, 11, 13, 17, 19, 21, 22, 23, 27, 30, 31, 33, 34, 35, 36, 39, 43, 44, 45, 47, 49, 50, 53, 57, 63, 64, 65, 66, 67, 68, 70, 74, 75, 76, 82, 85, 86, 87, 88, 90, 92, 95, 96, 99, 100, 102, 103, 104, 106, 108, 109, 110, 111, 112, 114, 116, 117, 120, 125, 126, 127, 130, 131, 132, 134, 135, 136, 137, 138, 141, 145, 149, 151, 152, 155, 157, 161, 162, 163, 166, 168, 170, 173, 175, 177, 178, 179, 181, 182, 183, 184, 186, 188, 189, 190, 191, 197, 198, 200, 202, 203, 208, 210, 214, 215, 218, 219, 220, 224, 226, 229, 231, 234, 237, 238, 240, 243, 244, 245, 247, 250, 251, 253, 254, 255, 256, 258, 259, 261, 262, 268, 270, 271, 272, 273, 274, 275, 276, 277, 278, 280, 282, 284, 285, 286, 287, 288, 289, 290, 292, 293, 296, 297, 300, 302, 304, 306, 307, 308, 312, 315, 316, 317, 319, 320, 322, 323, 324, 326, 327, 328, 329, 330, 332, 334, 335, 336, 337, 340, 342, 344, 345, 349, 350, 356, 357, 358, 360, 364, 368, 370, 372, 373, 379, 382, 383, 385, 386, 388, 389, 390, 392, 395, 397, 399, 401, 402, 405, 410, 413, 415, 418, 423, 424, 425, 426, 432, 433, 434, 435, 438, 439, 440, 443, 444, 445, 446, 449, 451, 452, 453, 455, 457, 462, 465, 466, 470, 472, 476, 477, 479, 481, 482, 483, 485, 486, 487, 490, 491, 492, 494, 495, 496, 497, 498, 499, 500, 503, 505, 506, 508, 510, 512, 513, 517, 518, 519, 520, 523, 524, 525, 529, 530, 532, 533, 534, 537, 538, 541, 542, 543, 548, 551, 555, 556, 559, 560, 561, 563, 566, 570, 571, 572, 574, 576, 578, 580, 581, 582, 583, 588, 590, 591, 599, 600, 602, 603, 604, 605, 606, 608, 609, 611, 613, 616, 618, 622, 624, 625, 626, 630, 631, 636, 637, 643, 645, 646, 648, 649, 650, 651, 652, 653, 654, 656, 659, 661, 666, 667, 672, 674, 675, 677, 679, 680, 683, 685, 687, 690, 696, 697, 698, 700, 701, 703, 704, 705, 712, 714, 716, 719, 720, 721, 722, 723, 726, 728, 729, 731, 736, 737, 738, 739, 740, 742, 744, 746, 747, 748, 750, 751, 752, 755, 756, 759, 762, 764, 765, 766, 769, 770, 775, 776, 779, 780, 783, 785, 786, 787, 788, 789, 792, 793, 795, 796, 797, 798, 799, 801, 802, 811, 816, 817, 818, 819, 825, 826, 827, 829, 830, 831, 832, 833, 834, 836, 838, 843, 845, 846, 847, 849, 852, 856, 857, 859, 861, 865, 866, 868, 870, 871, 872, 873, 876, 879, 881, 883, 884, 885, 889, 890, 892, 894, 896, 898, 899, 900, 901, 902, 903, 907, 909, 910, 913, 916, 918, 919, 920, 921, 924, 926, 929, 931, 933, 934, 935, 936, 937, 938, 939, 942, 943, 950, 952, 953, 956, 957, 958, 959, 960, 965, 967, 968, 969, 970, 972, 976, 977, 978, 980, 981, 983, 984, 985, 987, 988, 991, 992, 993, 994, 997, 998, 1003, 1007, 1008, 1009, 1010, 1013, 1017, 1020, 1021, 1022, 1023, 1024, 1025, 1028, 1029, 1033, 1035, 1036, 1038, 1041, 1042, 1046, 1051, 1052, 1053, 1056, 1061, 1063, 1064, 1066, 1068, 1069, 1072, 1077, 1078, 1080, 1083, 1086, 1088, 1089, 1090, 1091, 1092, 1095, 1096, 1097, 1098, 1100, 1101, 1104, 1106, 1108, 1111, 1112, 1113, 1114, 1116, 1117, 1122, 1123, 1126, 1132, 1134, 1137, 1138, 1139, 1140, 1141, 1142, 1143, 1147, 1150, 1151, 1152, 1154, 1157, 1158, 1159, 1161, 1163, 1165, 1167, 1168, 1169, 1170, 1178, 1180, 1181, 1184, 1185, 1189, 1190, 1191, 1192, 1193, 1194, 1197, 1200, 1201, 1203, 1204, 1205, 1207, 1208, 1214, 1215, 1218, 1221, 1224, 1228, 1230, 1232, 1233, 1235, 1236, 1237, 1238, 1239, 1240, 1242, 1244, 1245, 1249, 1255, 1256, 1258, 1259, 1260, 1262, 1263, 1267, 1269, 1272, 1277, 1281, 1284, 1285, 1288, 1289, 1290, 1291, 1294, 1298, 1299, 1302, 1303, 1305, 1306, 1308, 1311, 1313, 1316, 1317, 1320, 1322, 1323, 1327, 1328, 1329, 1331, 1334, 1336, 1337, 1338, 1339, 1343, 1348, 1350, 1353, 1354, 1355, 1356, 1357, 1365, 1366, 1368, 1369, 1374, 1375, 1376, 1378, 1380, 1381, 1383, 1384, 1386, 1389, 1393, 1394, 1395, 1396, 1400, 1401, 1402, 1404, 1405, 1406, 1407, 1409, 1412, 1413, 1415, 1416, 1417, 1419, 1420, 1421, 1422, 1427, 1428, 1430, 1432, 1435, 1436, 1437, 1438, 1439, 1443, 1446, 1448, 1453, 1454, 1455, 1462, 1463, 1470, 1471, 1472, 1473, 1476, 1477, 1479, 1480, 1482, 1483, 1485, 1488, 1489, 1490, 1492, 1493, 1495, 1497, 1498, 1499, 1500, 1501, 1502, 1504, 1505, 1507, 1509, 1512, 1513, 1514, 1515, 1516, 1520, 1524, 1527, 1528, 1529, 1530, 1533, 1540, 1541, 1542, 1543, 1545, 1547, 1550, 1551, 1553, 1554, 1555, 1556, 1557, 1559, 1561, 1567, 1569, 1570, 1571, 1579, 1580, 1581, 1582, 1583, 1584, 1585, 1586, 1588, 1589, 1590, 1592, 1593, 1594, 1595, 1597, 1598, 1599, 1600, 1602, 1603, 1605, 1606, 1608, 1609, 1610, 1611, 1612, 1616, 1620, 1621, 1624, 1625, 1627, 1630, 1631, 1633, 1634, 1635, 1638, 1639, 1641, 1642, 1644, 1646, 1649, 1651, 1654, 1657, 1658, 1659, 1663, 1668, 1669, 1672, 1673, 1674, 1676, 1677, 1679, 1681, 1690, 1692, 1693, 1694, 1706, 1709, 1710, 1712, 1713, 1714, 1715, 1717, 1718, 1720, 1721, 1722, 1723, 1726, 1727, 1729, 1734, 1738, 1739, 1741, 1742, 1744, 1746, 1748, 1750, 1751, 1752, 1753, 1755, 1756, 1758, 1759, 1761, 1765, 1768, 1775, 1777, 1778, 1780, 1783, 1784, 1785, 1786, 1788, 1789, 1790, 1791, 1792, 1793, 1797, 1799, 1802, 1804, 1806, 1809, 1814, 1817, 1821, 1823, 1824, 1825, 1826, 1829, 1830, 1833, 1836, 1837, 1839, 1842, 1844, 1846, 1847, 1848, 1849, 1852, 1854, 1855, 1856, 1857, 1859, 1860, 1862, 1865, 1866, 1867, 1869, 1872, 1873, 1875, 1876, 1877, 1880, 1882, 1883, 1888, 1890, 1892, 1893, 1894, 1895, 1897, 1898, 1900, 1905, 1906, 1908, 1910, 1916, 1918, 1919, 1922, 1924, 1926, 1927, 1928, 1935, 1936, 1938, 1939, 1940, 1941, 1944, 1946, 1948, 1951, 1954, 1955, 1957, 1958, 1960, 1964, 1972, 1976, 1978, 1983, 1987, 1989, 1990, 1992, 1993, 1994, 1995, 1996, 2001, 2003, 2007, 2009, 2012, 2013, 2015, 2018, 2021, 2022, 2027, 2030, 2031, 2032, 2035, 2036, 2037, 2041, 2044, 2047, 2048, 2049, 2055, 2056, 2057, 2058, 2061, 2063, 2064, 2066, 2069, 2070, 2072, 2073, 2074, 2075, 2077, 2079, 2080, 2081, 2082, 2083, 2084, 2085, 2087, 2088, 2089, 2090, 2093, 2095, 2096, 2098, 2104, 2107, 2110, 2113, 2114, 2116, 2117, 2119, 2122, 2123, 2125, 2126, 2129, 2130, 2131, 2132, 2134, 2136, 2137, 2139, 2140, 2141, 2143, 2145, 2147, 2148, 2149, 2152, 2153, 2160, 2162, 2163, 2166, 2171, 2174, 2175, 2178, 2179, 2180, 2181, 2182, 2184, 2185, 2186, 2187, 2188, 2190, 2191, 2192, 2193, 2194, 2195, 2196, 2201, 2203, 2206, 2207, 2208, 2209, 2210, 2211, 2214, 2217, 2218, 2219, 2220, 2225, 2226, 2229, 2230, 2231, 2233, 2236, 2238, 2239, 2240, 2244, 2246, 2247, 2248, 2250, 2254, 2258, 2260, 2261, 2265, 2267, 2268, 2269, 2274, 2275, 2276, 2277, 2280, 2281, 2282, 2287, 2288, 2289, 2291, 2294, 2295, 2297, 2302, 2303, 2305, 2307, 2308, 2310, 2311, 2312, 2315, 2316, 2318, 2319, 2320, 2321, 2323, 2325, 2328, 2330, 2334, 2338, 2344, 2346, 2350, 2351, 2354, 2355, 2356, 2357, 2362, 2367, 2368, 2370, 2371, 2372, 2375, 2376, 2377, 2382, 2383, 2384, 2386, 2390, 2391, 2394, 2395, 2399, 2401, 2403, 2406, 2407, 2408, 2409, 2412, 2417, 2418, 2419, 2421, 2422, 2424, 2425, 2426, 2430, 2431, 2437, 2438, 2442, 2446, 2448, 2449, 2450, 2451, 2455, 2459, 2463, 2467, 2469, 2470, 2472, 2474, 2476, 2479, 2480, 2486, 2489, 2493, 2497, 2501, 2502, 2505, 2506, 2507, 2508, 2509, 2510, 2515, 2518, 2520, 2522, 2526, 2527, 2528, 2531, 2532, 2533, 2536, 2538, 2539, 2540, 2543, 2547, 2548, 2550, 2551, 2558, 2559, 2560, 2561, 2563, 2564, 2568, 2569, 2574, 2575, 2582, 2585, 2589, 2591, 2592, 2594, 2599, 2603, 2605, 2608, 2612, 2614, 2618, 2619, 2620, 2621, 2622, 2625, 2628, 2629, 2630, 2632, 2635, 2636, 2637, 2639, 2640, 2641, 2643, 2645, 2646, 2647, 2648, 2650, 2651, 2653, 2655, 2656, 2658, 2662, 2663, 2664, 2665, 2666, 2668, 2670, 2671, 2673, 2679, 2680, 2681, 2682, 2686, 2688, 2691, 2692, 2694, 2696, 2698, 2699, 2700, 2702, 2704, 2705, 2706, 2707, 2708, 2709, 2711, 2713, 2718, 2720, 2721, 2724, 2725, 2726, 2728, 2729, 2731, 2734, 2735, 2737, 2738, 2741, 2742, 2746, 2747, 2748, 2753, 2754, 2756, 2757, 2758, 2759, 2762, 2766, 2767, 2768, 2770, 2774, 2776, 2778, 2783, 2785, 2787, 2788, 2789, 2792, 2793, 2794, 2796, 2797, 2798, 2802, 2804, 2806, 2808, 2810, 2811, 2812, 2814, 2816, 2819, 2820, 2821, 2823, 2824, 2825, 2830, 2832, 2833, 2834, 2836, 2837, 2842, 2843, 2845, 2851, 2854, 2858, 2862, 2864, 2866, 2867, 2868, 2870, 2874, 2876, 2878, 2879, 2883, 2884, 2885, 2886, 2887, 2888, 2892, 2896, 2897, 2898, 2899, 2900, 2901, 2902, 2903, 2904, 2905, 2907, 2910, 2912, 2913, 2916, 2917, 2920, 2922, 2924, 2928, 2929, 2932, 2937, 2939, 2940, 2941, 2942, 2943, 2944, 2945, 2947, 2949, 2950, 2951, 2954, 2955, 2957, 2958, 2961, 2962, 2966, 2969, 2970, 2973, 2974, 2976, 2977, 2978, 2984, 2986, 2987, 2988, 2989, 2990, 2991, 2994, 2997, 2998, 3000, 3007, 3008, 3009, 3011, 3012, 3016, 3018, 3020, 3021, 3022, 3024, 3026, 3027, 3029, 3030, 3031, 3033, 3038, 3039, 3041, 3042, 3043, 3048, 3049, 3053, 3055, 3057, 3058, 3061, 3062, 3067, 3068, 3069, 3070, 3071, 3075, 3077, 3078, 3081, 3088, 3089, 3091, 3092, 3097, 3100, 3101, 3103, 3104, 3105, 3107, 3108, 3109, 3111, 3112, 3113, 3115, 3117, 3119, 3120, 3121, 3123, 3124, 3127, 3129, 3130, 3131, 3135, 3136, 3140, 3142, 3143, 3148, 3150, 3152, 3154, 3158, 3159, 3161, 3163, 3164, 3165, 3167}\n",
            "1 : {0, 1, 7, 8, 10, 12, 14, 15, 16, 18, 20, 24, 25, 26, 28, 29, 32, 37, 38, 40, 41, 42, 46, 48, 51, 52, 54, 55, 56, 58, 59, 60, 61, 62, 69, 71, 72, 73, 77, 78, 79, 80, 81, 83, 84, 89, 91, 93, 94, 97, 98, 101, 105, 107, 113, 115, 118, 119, 121, 122, 123, 124, 128, 129, 133, 139, 140, 142, 143, 144, 146, 147, 148, 150, 153, 154, 156, 158, 159, 160, 164, 165, 167, 169, 171, 172, 174, 176, 180, 185, 187, 192, 193, 194, 195, 196, 199, 201, 204, 205, 206, 207, 209, 211, 212, 213, 216, 217, 221, 222, 223, 225, 227, 228, 230, 232, 233, 235, 236, 239, 241, 242, 246, 248, 249, 252, 257, 260, 263, 264, 265, 266, 267, 269, 279, 281, 283, 291, 294, 295, 298, 299, 301, 303, 305, 309, 310, 311, 313, 314, 318, 321, 325, 331, 333, 338, 339, 341, 343, 346, 347, 348, 351, 352, 353, 354, 355, 359, 361, 362, 363, 365, 366, 367, 369, 371, 374, 375, 376, 377, 378, 380, 381, 384, 387, 391, 393, 394, 396, 398, 400, 403, 404, 406, 407, 408, 409, 411, 412, 414, 416, 417, 419, 420, 421, 422, 427, 428, 429, 430, 431, 436, 437, 441, 442, 447, 448, 450, 454, 456, 458, 459, 460, 461, 463, 464, 467, 468, 469, 471, 473, 474, 475, 478, 480, 484, 488, 489, 493, 501, 502, 504, 507, 509, 511, 514, 515, 516, 521, 522, 526, 527, 528, 531, 535, 536, 539, 540, 544, 545, 546, 547, 549, 550, 552, 553, 554, 557, 558, 562, 564, 565, 567, 568, 569, 573, 575, 577, 579, 584, 585, 586, 587, 589, 592, 593, 594, 595, 596, 597, 598, 601, 607, 610, 612, 614, 615, 617, 619, 620, 621, 623, 627, 628, 629, 632, 633, 634, 635, 638, 639, 640, 641, 642, 644, 647, 655, 657, 658, 660, 662, 663, 664, 665, 668, 669, 670, 671, 673, 676, 678, 681, 682, 684, 686, 688, 689, 691, 692, 693, 694, 695, 699, 702, 706, 707, 708, 709, 710, 711, 713, 715, 717, 718, 724, 725, 727, 730, 732, 733, 734, 735, 741, 743, 745, 749, 753, 754, 757, 758, 760, 761, 763, 767, 768, 771, 772, 773, 774, 777, 778, 781, 782, 784, 790, 791, 794, 800, 803, 804, 805, 806, 807, 808, 809, 810, 812, 813, 814, 815, 820, 821, 822, 823, 824, 828, 835, 837, 839, 840, 841, 842, 844, 848, 850, 851, 853, 854, 855, 858, 860, 862, 863, 864, 867, 869, 874, 875, 877, 878, 880, 882, 886, 887, 888, 891, 893, 895, 897, 904, 905, 906, 908, 911, 912, 914, 915, 917, 922, 923, 925, 927, 928, 930, 932, 940, 941, 944, 945, 946, 947, 948, 949, 951, 954, 955, 961, 962, 963, 964, 966, 971, 973, 974, 975, 979, 982, 986, 989, 990, 995, 996, 999, 1000, 1001, 1002, 1004, 1005, 1006, 1011, 1012, 1014, 1015, 1016, 1018, 1019, 1026, 1027, 1030, 1031, 1032, 1034, 1037, 1039, 1040, 1043, 1044, 1045, 1047, 1048, 1049, 1050, 1054, 1055, 1057, 1058, 1059, 1060, 1062, 1065, 1067, 1070, 1071, 1073, 1074, 1075, 1076, 1079, 1081, 1082, 1084, 1085, 1087, 1093, 1094, 1099, 1102, 1103, 1105, 1107, 1109, 1110, 1115, 1118, 1119, 1120, 1121, 1124, 1125, 1127, 1128, 1129, 1130, 1131, 1133, 1135, 1136, 1144, 1145, 1146, 1148, 1149, 1153, 1155, 1156, 1160, 1162, 1164, 1166, 1171, 1172, 1173, 1174, 1175, 1176, 1177, 1179, 1182, 1183, 1186, 1187, 1188, 1195, 1196, 1198, 1199, 1202, 1206, 1209, 1210, 1211, 1212, 1213, 1216, 1217, 1219, 1220, 1222, 1223, 1225, 1226, 1227, 1229, 1231, 1234, 1241, 1243, 1246, 1247, 1248, 1250, 1251, 1252, 1253, 1254, 1257, 1261, 1264, 1265, 1266, 1268, 1270, 1271, 1273, 1274, 1275, 1276, 1278, 1279, 1280, 1282, 1283, 1286, 1287, 1292, 1293, 1295, 1296, 1297, 1300, 1301, 1304, 1307, 1309, 1310, 1312, 1314, 1315, 1318, 1319, 1321, 1324, 1325, 1326, 1330, 1332, 1333, 1335, 1340, 1341, 1342, 1344, 1345, 1346, 1347, 1349, 1351, 1352, 1358, 1359, 1360, 1361, 1362, 1363, 1364, 1367, 1370, 1371, 1372, 1373, 1377, 1379, 1382, 1385, 1387, 1388, 1390, 1391, 1392, 1397, 1398, 1399, 1403, 1408, 1410, 1411, 1414, 1418, 1423, 1424, 1425, 1426, 1429, 1431, 1433, 1434, 1440, 1441, 1442, 1444, 1445, 1447, 1449, 1450, 1451, 1452, 1456, 1457, 1458, 1459, 1460, 1461, 1464, 1465, 1466, 1467, 1468, 1469, 1474, 1475, 1478, 1481, 1484, 1486, 1487, 1491, 1494, 1496, 1503, 1506, 1508, 1510, 1511, 1517, 1518, 1519, 1521, 1522, 1523, 1525, 1526, 1531, 1532, 1534, 1535, 1536, 1537, 1538, 1539, 1544, 1546, 1548, 1549, 1552, 1558, 1560, 1562, 1563, 1564, 1565, 1566, 1568, 1572, 1573, 1574, 1575, 1576, 1577, 1578, 1587, 1591, 1596, 1601, 1604, 1607, 1613, 1614, 1615, 1617, 1618, 1619, 1622, 1623, 1626, 1628, 1629, 1632, 1636, 1637, 1640, 1643, 1645, 1647, 1648, 1650, 1652, 1653, 1655, 1656, 1660, 1661, 1662, 1664, 1665, 1666, 1667, 1670, 1671, 1675, 1678, 1680, 1682, 1683, 1684, 1685, 1686, 1687, 1688, 1689, 1691, 1695, 1696, 1697, 1698, 1699, 1700, 1701, 1702, 1703, 1704, 1705, 1707, 1708, 1711, 1716, 1719, 1724, 1725, 1728, 1730, 1731, 1732, 1733, 1735, 1736, 1737, 1740, 1743, 1745, 1747, 1749, 1754, 1757, 1760, 1762, 1763, 1764, 1766, 1767, 1769, 1770, 1771, 1772, 1773, 1774, 1776, 1779, 1781, 1782, 1787, 1794, 1795, 1796, 1798, 1800, 1801, 1803, 1805, 1807, 1808, 1810, 1811, 1812, 1813, 1815, 1816, 1818, 1819, 1820, 1822, 1827, 1828, 1831, 1832, 1834, 1835, 1838, 1840, 1841, 1843, 1845, 1850, 1851, 1853, 1858, 1861, 1863, 1864, 1868, 1870, 1871, 1874, 1878, 1879, 1881, 1884, 1885, 1886, 1887, 1889, 1891, 1896, 1899, 1901, 1902, 1903, 1904, 1907, 1909, 1911, 1912, 1913, 1914, 1915, 1917, 1920, 1921, 1923, 1925, 1929, 1930, 1931, 1932, 1933, 1934, 1937, 1942, 1943, 1945, 1947, 1949, 1950, 1952, 1953, 1956, 1959, 1961, 1962, 1963, 1965, 1966, 1967, 1968, 1969, 1970, 1971, 1973, 1974, 1975, 1977, 1979, 1980, 1981, 1982, 1984, 1985, 1986, 1988, 1991, 1997, 1998, 1999, 2000, 2002, 2004, 2005, 2006, 2008, 2010, 2011, 2014, 2016, 2017, 2019, 2020, 2023, 2024, 2025, 2026, 2028, 2029, 2033, 2034, 2038, 2039, 2040, 2042, 2043, 2045, 2046, 2050, 2051, 2052, 2053, 2054, 2059, 2060, 2062, 2065, 2067, 2068, 2071, 2076, 2078, 2086, 2091, 2092, 2094, 2097, 2099, 2100, 2101, 2102, 2103, 2105, 2106, 2108, 2109, 2111, 2112, 2115, 2118, 2120, 2121, 2124, 2127, 2128, 2133, 2135, 2138, 2142, 2144, 2146, 2150, 2151, 2154, 2155, 2156, 2157, 2158, 2159, 2161, 2164, 2165, 2167, 2168, 2169, 2170, 2172, 2173, 2176, 2177, 2183, 2189, 2197, 2198, 2199, 2200, 2202, 2204, 2205, 2212, 2213, 2215, 2216, 2221, 2222, 2223, 2224, 2227, 2228, 2232, 2234, 2235, 2237, 2241, 2242, 2243, 2245, 2249, 2251, 2252, 2253, 2255, 2256, 2257, 2259, 2262, 2263, 2264, 2266, 2270, 2271, 2272, 2273, 2278, 2279, 2283, 2284, 2285, 2286, 2290, 2292, 2293, 2296, 2298, 2299, 2300, 2301, 2304, 2306, 2309, 2313, 2314, 2317, 2322, 2324, 2326, 2327, 2329, 2331, 2332, 2333, 2335, 2336, 2337, 2339, 2340, 2341, 2342, 2343, 2345, 2347, 2348, 2349, 2352, 2353, 2358, 2359, 2360, 2361, 2363, 2364, 2365, 2366, 2369, 2373, 2374, 2378, 2379, 2380, 2381, 2385, 2387, 2388, 2389, 2392, 2393, 2396, 2397, 2398, 2400, 2402, 2404, 2405, 2410, 2411, 2413, 2414, 2415, 2416, 2420, 2423, 2427, 2428, 2429, 2432, 2433, 2434, 2435, 2436, 2439, 2440, 2441, 2443, 2444, 2445, 2447, 2452, 2453, 2454, 2456, 2457, 2458, 2460, 2461, 2462, 2464, 2465, 2466, 2468, 2471, 2473, 2475, 2477, 2478, 2481, 2482, 2483, 2484, 2485, 2487, 2488, 2490, 2491, 2492, 2494, 2495, 2496, 2498, 2499, 2500, 2503, 2504, 2511, 2512, 2513, 2514, 2516, 2517, 2519, 2521, 2523, 2524, 2525, 2529, 2530, 2534, 2535, 2537, 2541, 2542, 2544, 2545, 2546, 2549, 2552, 2553, 2554, 2555, 2556, 2557, 2562, 2565, 2566, 2567, 2570, 2571, 2572, 2573, 2576, 2577, 2578, 2579, 2580, 2581, 2583, 2584, 2586, 2587, 2588, 2590, 2593, 2595, 2596, 2597, 2598, 2600, 2601, 2602, 2604, 2606, 2607, 2609, 2610, 2611, 2613, 2615, 2616, 2617, 2623, 2624, 2626, 2627, 2631, 2633, 2634, 2638, 2642, 2644, 2649, 2652, 2654, 2657, 2659, 2660, 2661, 2667, 2669, 2672, 2674, 2675, 2676, 2677, 2678, 2683, 2684, 2685, 2687, 2689, 2690, 2693, 2695, 2697, 2701, 2703, 2710, 2712, 2714, 2715, 2716, 2717, 2719, 2722, 2723, 2727, 2730, 2732, 2733, 2736, 2739, 2740, 2743, 2744, 2745, 2749, 2750, 2751, 2752, 2755, 2760, 2761, 2763, 2764, 2765, 2769, 2771, 2772, 2773, 2775, 2777, 2779, 2780, 2781, 2782, 2784, 2786, 2790, 2791, 2795, 2799, 2800, 2801, 2803, 2805, 2807, 2809, 2813, 2815, 2817, 2818, 2822, 2826, 2827, 2828, 2829, 2831, 2835, 2838, 2839, 2840, 2841, 2844, 2846, 2847, 2848, 2849, 2850, 2852, 2853, 2855, 2856, 2857, 2859, 2860, 2861, 2863, 2865, 2869, 2871, 2872, 2873, 2875, 2877, 2880, 2881, 2882, 2889, 2890, 2891, 2893, 2894, 2895, 2906, 2908, 2909, 2911, 2914, 2915, 2918, 2919, 2921, 2923, 2925, 2926, 2927, 2930, 2931, 2933, 2934, 2935, 2936, 2938, 2946, 2948, 2952, 2953, 2956, 2959, 2960, 2963, 2964, 2965, 2967, 2968, 2971, 2972, 2975, 2979, 2980, 2981, 2982, 2983, 2985, 2992, 2993, 2995, 2996, 2999, 3001, 3002, 3003, 3004, 3005, 3006, 3010, 3013, 3014, 3015, 3017, 3019, 3023, 3025, 3028, 3032, 3034, 3035, 3036, 3037, 3040, 3044, 3045, 3046, 3047, 3050, 3051, 3052, 3054, 3056, 3059, 3060, 3063, 3064, 3065, 3066, 3072, 3073, 3074, 3076, 3079, 3080, 3082, 3083, 3084, 3085, 3086, 3087, 3090, 3093, 3094, 3095, 3096, 3098, 3099, 3102, 3106, 3110, 3114, 3116, 3118, 3122, 3125, 3126, 3128, 3132, 3133, 3134, 3137, 3138, 3139, 3141, 3144, 3145, 3146, 3147, 3149, 3151, 3153, 3155, 3156, 3157, 3160, 3162, 3166}\n"
          ]
        }
      ],
      "source": [
        "for key,value in temp.items():\n",
        "\tprint(key, ':', value)"
      ]
    },
    {
      "cell_type": "code",
      "execution_count": 40,
      "metadata": {
        "id": "R2qjoVUxkQ_I"
      },
      "outputs": [],
      "source": [
        "from torch.utils.data import Dataset, DataLoader\n",
        "from torch.utils.tensorboard import SummaryWriter\n",
        "from torchvision import transforms, utils, datasets\n",
        "from torchsummary import summary"
      ]
    },
    {
      "cell_type": "code",
      "execution_count": 54,
      "metadata": {
        "id": "g78CP9pkjz9Q"
      },
      "outputs": [],
      "source": [
        "class CustomDataset(Dataset):\n",
        "  def __init__(self, dataset, idxs):\n",
        "      self.dataset = dataset\n",
        "      self.idxs = list(idxs)\n",
        "\n",
        "  def __len__(self):\n",
        "      return len(self.idxs)\n",
        "\n",
        "  def __getitem__(self, item):\n",
        "      X_train, y_train = self.dataset[self.idxs[item]]\n",
        "      return X_train, y_train"
      ]
    },
    {
      "cell_type": "code",
      "execution_count": 56,
      "metadata": {
        "id": "EmmlE05NCZY0"
      },
      "outputs": [],
      "source": [
        "train_loader = DataLoader(CustomDataset(data, temp[1]), batch_size=100, shuffle=True)\n"
      ]
    },
    {
      "cell_type": "code",
      "execution_count": 57,
      "metadata": {
        "colab": {
          "base_uri": "https://localhost:8080/"
        },
        "id": "2WOHYIIuCajo",
        "outputId": "6038e149-9025-4b4d-8a3c-9e2d76a81f58"
      },
      "outputs": [
        {
          "data": {
            "text/plain": [
              "<torch.utils.data.dataloader.DataLoader at 0x7fca39f2bfa0>"
            ]
          },
          "execution_count": 57,
          "metadata": {},
          "output_type": "execute_result"
        }
      ],
      "source": []
    },
    {
      "cell_type": "code",
      "execution_count": null,
      "metadata": {
        "id": "naPpfP_V3Gw2"
      },
      "outputs": [],
      "source": [
        "for X_train, y_train in train_loader:\n",
        "  if torch.cuda.is_available():\n",
        "    X_train, y_train = X_train.cuda(), y_train.cuda()"
      ]
    },
    {
      "cell_type": "code",
      "execution_count": 45,
      "metadata": {
        "id": "Xrk3ydX2168G"
      },
      "outputs": [],
      "source": [
        "# logistic regression class\n",
        "class LogisticRegression(nn.Module):\n",
        "    def __init__(self, n_input_features):\n",
        "        super(LogisticRegression, self).__init__()\n",
        "        self.linear = nn.Linear(n_input_features, 1)\n",
        "    \n",
        "    #sigmoid transformation of the input \n",
        "    def forward(self, x):\n",
        "        y_pred = torch.sigmoid(self.linear(x))\n",
        "        return y_pred"
      ]
    },
    {
      "cell_type": "code",
      "execution_count": null,
      "metadata": {
        "id": "8PuaOsD52jtK"
      },
      "outputs": [],
      "source": [
        "Model_LR = LogisticRegression()"
      ]
    },
    {
      "cell_type": "code",
      "execution_count": 46,
      "metadata": {
        "id": "D_1Nba_HxBKH"
      },
      "outputs": [],
      "source": [
        "import torch\n",
        "import torch.nn as nn\n",
        "import torch.nn.functional as F"
      ]
    },
    {
      "cell_type": "code",
      "execution_count": 47,
      "metadata": {
        "id": "rn9yPJkCkHsT"
      },
      "outputs": [],
      "source": [
        "def train(model):\n",
        "  for idxs in range(2):\n",
        "    train_loader = DataLoader(CustomDataset(data, temp[0]), batch_size=100, shuffle=True)\n",
        "    \n",
        "    criterion = nn.CrossEntropyLoss()\n",
        "    optimizer = torch.optim.SGD(model.parameters(), lr=self.learning_rate, momentum=0.5)\n",
        "    # optimizer = torch.optim.Adam(model.parameters(), lr=self.learning_rate)\n",
        "\n",
        "    \n",
        "    for X_train, y_train in train_loader:\n",
        "      if torch.cuda.is_available():\n",
        "        X_train, y_train = X_train.cuda(), y_train.cuda()\n",
        "\n",
        "        \n"
      ]
    }
  ],
  "metadata": {
    "colab": {
      "collapsed_sections": [
        "wz3RW13QDt4N",
        "lBbpuxK9C37x"
      ],
      "provenance": []
    },
    "kernelspec": {
      "display_name": "Python 3",
      "name": "python3"
    },
    "language_info": {
      "codemirror_mode": {
        "name": "ipython",
        "version": 3
      },
      "file_extension": ".py",
      "mimetype": "text/x-python",
      "name": "python",
      "nbconvert_exporter": "python",
      "pygments_lexer": "ipython3",
      "version": "3.11.2"
    }
  },
  "nbformat": 4,
  "nbformat_minor": 0
}
