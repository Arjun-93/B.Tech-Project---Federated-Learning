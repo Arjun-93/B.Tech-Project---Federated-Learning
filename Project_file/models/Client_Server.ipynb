{
  "cells": [
    {
      "attachments": {},
      "cell_type": "markdown",
      "metadata": {
        "id": "AOKeFblQ7arp"
      },
      "source": [
        "# Clients Side Training"
      ]
    },
    {
      "cell_type": "code",
<<<<<<< HEAD:Project_file/Client_Server.ipynb
      "execution_count": 31,
=======
      "execution_count": 1,
>>>>>>> c2141a36778e0b10fc3105f4142c413f5ec2f56c:Project_file/models/Client_Server.ipynb
      "metadata": {
        "id": "IA0wfQ2QJkIK"
      },
      "outputs": [],
      "source": [
        "import pandas as pd\n",
        "import numpy as np\n",
        "from sklearn import preprocessing\n",
        "from sklearn.preprocessing import StandardScaler\n",
        "import torch\n",
        "import torch.nn as nn"
      ]
    },
    {
      "cell_type": "code",
<<<<<<< HEAD:Project_file/Client_Server.ipynb
      "execution_count": 32,
=======
      "execution_count": 3,
>>>>>>> c2141a36778e0b10fc3105f4142c413f5ec2f56c:Project_file/models/Client_Server.ipynb
      "metadata": {
        "id": "jFeEu9jsJk0j"
      },
      "outputs": [],
      "source": [
<<<<<<< HEAD:Project_file/Client_Server.ipynb
        "dataset = pd.read_csv(\"C:\\\\Users\\\\intel\\\\Desktop\\\\Arjun Workspace\\\\B.Tech-Project---Federated-Learning\\\\Project_file\\\\Dataset\\\\feature_selected_voice_data.csv\")"
=======
        "df = pd.read_csv(\"C:\\\\Users\\\\arjun\\\\OneDrive\\\\Desktop\\\\BTP\\\\B.Tech-Project---Federated-Learning\\\\Project_file\\\\models\\\\feature_selected_voice_data.csv\")"
>>>>>>> c2141a36778e0b10fc3105f4142c413f5ec2f56c:Project_file/models/Client_Server.ipynb
      ]
    },
    {
      "cell_type": "code",
<<<<<<< HEAD:Project_file/Client_Server.ipynb
      "execution_count": 33,
      "metadata": {},
      "outputs": [],
      "source": [
        "from sklearn.model_selection import train_test_split\n",
        "from sklearn.datasets import load_iris\n",
        "idx = int(len(dataset)*0.8)\n",
        "train_df = dataset[:idx]\n",
        "test_df = dataset[idx:]"
      ]
    },
    {
      "cell_type": "code",
      "execution_count": 34,
=======
      "execution_count": 8,
>>>>>>> c2141a36778e0b10fc3105f4142c413f5ec2f56c:Project_file/models/Client_Server.ipynb
      "metadata": {
        "id": "7ln3Ew2AJkxJ"
      },
      "outputs": [],
      "source": [
<<<<<<< HEAD:Project_file/Client_Server.ipynb
        "idx = int(len(train_df)*0.5)\n",
        "client1_dataset = train_df[:idx]\n",
        "client2_dataset = train_df[idx:]"
=======
        "train_idx = int(len(df)*0.8)\n",
        "test_idx = len(df) - train_idx\n",
        "\n",
        "train_idx2 =  int(train_idx/2)\n",
        "client1_dataset = df[:train_idx2]\n",
        "client2_dataset = df[train_idx2:train_idx]"
>>>>>>> c2141a36778e0b10fc3105f4142c413f5ec2f56c:Project_file/models/Client_Server.ipynb
      ]
    },
    {
      "cell_type": "code",
<<<<<<< HEAD:Project_file/Client_Server.ipynb
      "execution_count": 35,
=======
      "execution_count": 9,
      "metadata": {},
      "outputs": [
        {
          "name": "stdout",
          "output_type": "stream",
          "text": [
            "(1267, 14)\n",
            "(1267, 14)\n",
            "2534\n",
            "634\n"
          ]
        }
      ],
      "source": [
        "print(client1_dataset.shape)\n",
        "print(client2_dataset.shape)\n",
        "print(train_idx)\n",
        "print(test_idx)"
      ]
    },
    {
      "cell_type": "code",
      "execution_count": 4,
>>>>>>> c2141a36778e0b10fc3105f4142c413f5ec2f56c:Project_file/models/Client_Server.ipynb
      "metadata": {
        "id": "71Cs9Fs97DAK"
      },
      "outputs": [],
      "source": [
        "# Client1 dataset -->\n",
        "client1_X = client1_dataset.iloc[:,:-1]\n",
        "client1_Y = client1_dataset[\"label\"]\n",
        "le = preprocessing.LabelEncoder()\n",
        "client1_Y = le.fit_transform(client1_Y)\n",
        "client1_X = client1_X.to_numpy()\n",
        "# client1_Y = client1_Y.to_numpy()\n",
        "\n",
        "X_train_1 = client1_X.astype('float32')\n",
        "y_train_1 = client1_Y.astype('float32')\n",
        "\n",
        "X_train_1 = torch.from_numpy(X_train_1)\n",
        "y_train_1 =torch.from_numpy(y_train_1)\n",
        "\n",
        "# Client2 Datatset -->\n",
        "client2_X = client2_dataset.iloc[:,:-1]\n",
        "client2_Y = client2_dataset[\"label\"]\n",
        "le = preprocessing.LabelEncoder()\n",
        "client2_Y = le.fit_transform(client2_Y)\n",
        "client2_X = client2_X.to_numpy()\n",
        "# client2_Y = client2_Y.to_numpy()\n",
        "\n",
        "X_train_2 = client2_X.astype('float32')\n",
        "y_train_2 = client2_Y.astype('float32')\n",
        "\n",
        "X_train_2 = torch.from_numpy(X_train_2)\n",
        "y_train_2 =torch.from_numpy(y_train_2)"
      ]
    },
    {
      "cell_type": "code",
<<<<<<< HEAD:Project_file/Client_Server.ipynb
      "execution_count": 36,
=======
      "execution_count": 5,
>>>>>>> c2141a36778e0b10fc3105f4142c413f5ec2f56c:Project_file/models/Client_Server.ipynb
      "metadata": {
        "id": "NtK3B2h1SOpo"
      },
      "outputs": [],
      "source": [
        "n_samples, n_features = X_train_1.shape"
      ]
    },
    {
      "cell_type": "code",
<<<<<<< HEAD:Project_file/Client_Server.ipynb
      "execution_count": 37,
=======
      "execution_count": 6,
>>>>>>> c2141a36778e0b10fc3105f4142c413f5ec2f56c:Project_file/models/Client_Server.ipynb
      "metadata": {
        "id": "Uqe4mKv0JL_B"
      },
      "outputs": [],
      "source": [
        "class LogisticRegression(nn.Module):\n",
        "    def __init__(self, n_input_features):\n",
        "        super(LogisticRegression, self).__init__()\n",
        "        self.linear = nn.Linear(n_input_features, 1)\n",
        "    \n",
        "    #sigmoid transformation of the input \n",
        "    def forward(self, x):\n",
        "        y_pred = torch.sigmoid(self.linear(x))\n",
        "        return y_pred"
      ]
    },
    {
      "cell_type": "code",
<<<<<<< HEAD:Project_file/Client_Server.ipynb
      "execution_count": 38,
=======
      "execution_count": 7,
>>>>>>> c2141a36778e0b10fc3105f4142c413f5ec2f56c:Project_file/models/Client_Server.ipynb
      "metadata": {
        "id": "x0gDrTNk93Y7"
      },
      "outputs": [],
      "source": [
        "def clients_training(X_train, y_train, lr):\n",
        "  num_epochs = 100\n",
        "  learning_rate = 0.0001 \n",
        "  criterion = nn.BCELoss() # Binary cross Entropy loss                              \n",
        "  optimizer = torch.optim.SGD(lr.parameters(), lr=learning_rate) \n",
        "  error_loss = []\n",
        "  accuracy_list = []\n",
        "  for epoch in range(num_epochs):\n",
        "      train_loss = 0\n",
        "      correct = 0\n",
        "      total = 0\n",
        "      optimizer.zero_grad()\n",
        "      y_pred = lr(X_train)\n",
        "      loss = criterion(y_pred.reshape(1267), y_train)             \n",
        "      loss.backward()\n",
        "      optimizer.step()\n",
        "      # if (epoch+1) % 20 == 0:                                          \n",
        "      #     print(f'epoch: {epoch+1}, loss = {loss.item():.4f}')\n",
        "      train_loss += loss.item()*X_train.size(0)\n",
        "      train_loss = train_loss/1584\n",
        "      error_loss.append(train_loss)\n",
        "      total += y_train.size(0)\n",
        "      predicted = torch.round(torch.relu(y_pred))\n",
        "      correct += (predicted == y_train).sum().item()\n",
        "      accuracy = correct/total\n",
        "      accuracy_list.append(accuracy)\n",
        "  total_loss = sum(error_loss)/len(error_loss)\n",
        "  avg_accuracy = sum(accuracy_list)/len(accuracy_list)\n",
        "  return lr, total_loss, avg_accuracy\n",
        "\n",
        "#print(lr.parameters()) # printing learnable parameters (weights and biases)\n",
        "#print(lr.state_dict) # pint dictionary of all parameters\n",
        "# print(total_loss) # printing total loss in training the model"
      ]
    },
    {
      "cell_type": "code",
<<<<<<< HEAD:Project_file/Client_Server.ipynb
      "execution_count": 39,
      "metadata": {},
      "outputs": [],
      "source": [
        "X_test = test_df.iloc[:,:-1]\n",
        "y_test = test_df[\"label\"]\n",
        "le = preprocessing.LabelEncoder()\n",
        "y_test = le.fit_transform(client1_Y)\n",
        "X_test = X_test.to_numpy()\n",
        "# client1_Y = client1_Y.to_numpy()\n",
        "\n",
        "X_test = X_test.astype('float32')\n",
        "y_test = y_test.astype('float32')\n",
        "\n",
        "X_test = torch.from_numpy(X_test)\n",
        "y_test =torch.from_numpy(y_test)"
      ]
    },
    {
      "cell_type": "code",
      "execution_count": 40,
      "metadata": {},
      "outputs": [],
      "source": [
        "# model1 = LogisticRegression(n_features)\n",
        "model = LogisticRegression(n_features)\n",
        "trained_model, loss1, acc1 = clients_training(X_train_1, y_train_1, model)"
      ]
    },
    {
      "cell_type": "code",
      "execution_count": 41,
      "metadata": {},
      "outputs": [
        {
          "name": "stdout",
          "output_type": "stream",
          "text": [
            "Testing accuracy: 0.0000\n"
          ]
        }
      ],
      "source": [
        "with torch.no_grad():\n",
        "    y_pred = trained_model.forward(X_test)\n",
        "    predicted = torch.round(y_pred)\n",
        "    correct = (predicted == y_test).sum().item()\n",
        "    total = y_test.size(0)\n",
        "    test_acc = correct / total\n",
        "    print(f'Testing accuracy: {test_acc:.4f}')"
      ]
    },
    {
      "cell_type": "code",
      "execution_count": 42,
      "metadata": {},
      "outputs": [
        {
          "data": {
            "image/png": "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",
            "text/plain": [
              "<Figure size 640x480 with 1 Axes>"
            ]
          },
          "metadata": {},
          "output_type": "display_data"
        }
      ],
      "source": [
        "import numpy as np\n",
        "import matplotlib.pyplot as plt\n",
        "from sklearn.datasets import make_classification\n",
        "from sklearn.linear_model import LogisticRegression\n",
        "\n",
        "# generate a toy binary classification dataset\n",
        "X, y = make_classification(n_samples=100, n_features=2, n_informative=2, n_redundant=0, random_state=42)\n",
        "\n",
        "# train a logistic regression model\n",
        "model = LogisticRegression()\n",
        "model.fit(X, y)\n",
        "\n",
        "# plot the data points and decision boundary\n",
        "plt.scatter(X[:, 0], X[:, 1], c=y)\n",
        "x_min, x_max = X[:, 0].min() - 0.5, X[:, 0].max() + 0.5\n",
        "y_min, y_max = X[:, 1].min() - 0.5, X[:, 1].max() + 0.5\n",
        "xx, yy = np.meshgrid(np.arange(x_min, x_max, 0.01), np.arange(y_min, y_max, 0.01))\n",
        "Z = model.predict_proba(np.c_[xx.ravel(), yy.ravel()])[:, 1]\n",
        "Z = Z.reshape(xx.shape)\n",
        "plt.contour(xx, yy, Z, levels=[0.5], colors='k')\n",
        "plt.show()\n"
=======
      "execution_count": 8,
      "metadata": {
        "id": "_rTbOsxh93WU"
      },
      "outputs": [],
      "source": [
        "# weights, loss = clients_training(X_train_1, y_train_1)"
>>>>>>> c2141a36778e0b10fc3105f4142c413f5ec2f56c:Project_file/models/Client_Server.ipynb
      ]
    },
    {
      "attachments": {},
      "cell_type": "markdown",
      "metadata": {
        "id": "W2_LDf8TDlCC"
      },
      "source": [
        "# Server Side Training"
      ]
    },
    {
      "cell_type": "code",
<<<<<<< HEAD:Project_file/Client_Server.ipynb
      "execution_count": 43,
=======
      "execution_count": 9,
>>>>>>> c2141a36778e0b10fc3105f4142c413f5ec2f56c:Project_file/models/Client_Server.ipynb
      "metadata": {
        "id": "ws4a2dclETIN"
      },
      "outputs": [],
      "source": [
        "import time\n",
        "import copy\n",
        "from copy import deepcopy\n",
        "import matplotlib.pyplot as plt"
      ]
    },
    {
      "attachments": {},
      "cell_type": "markdown",
      "metadata": {
        "id": "pQU7mziZNxKk"
      },
      "source": [
        "Train "
      ]
    },
    {
      "cell_type": "code",
<<<<<<< HEAD:Project_file/Client_Server.ipynb
      "execution_count": 44,
=======
      "execution_count": 10,
>>>>>>> c2141a36778e0b10fc3105f4142c413f5ec2f56c:Project_file/models/Client_Server.ipynb
      "metadata": {
        "id": "i6xJkfXtNfBt"
      },
      "outputs": [],
      "source": [
        "def ss_train_r(model, rounds, plt_title=\"Loss Curve\"):\n",
        "  \n",
        "  # global model weights\n",
        "  global_weights = model.state_dict()\n",
        "\n",
        "  # training loss\n",
        "  train_loss = []\n",
        "  train_accuracy = []\n",
        "  # measure time\n",
        "  start = time.time()\n",
        "\n",
        "  for current_round in range(1, rounds+1):\n",
        "\n",
        "    w, local_loss, acc_ = [], [], []\n",
        "\n",
        "    # model1 = LogisticRegression(n_features)\n",
        "    weights1, loss1, acc1 = clients_training(X_train_1, y_train_1, model)\n",
        "\n",
        "    # model2 = LogisticRegression(n_features)\n",
        "    weights2, loss2, acc2 = clients_training(X_train_2, y_train_2, model)\n",
        "\n",
        "    w.append(copy.deepcopy(weights1))\n",
        "    w.append(copy.deepcopy(weights2))\n",
        "    # print(loss1)\n",
        "    # print(loss2)\n",
        "    local_loss.append(copy.deepcopy(loss1))\n",
        "    local_loss.append(copy.deepcopy(loss2))\n",
        "    \n",
        "    acc_.append(copy.deepcopy(acc1))\n",
        "    acc_.append(copy.deepcopy(acc2))\n",
        "\n",
        "    # updating the global weights\n",
        "    weights_avg = copy.deepcopy(w[0])\n",
        "    for k in weights_avg.keys():\n",
        "      for i in range(1, len(w)):\n",
        "        weights_avg[k] += w[i][k]\n",
        "\n",
        "      weights_avg[k] = torch.div(weights_avg[k], len(w))\n",
        "    global_weights = weights_avg\n",
        "\n",
        "    # move the updated weights to our model state dict\n",
        "    model.load_state_dict(global_weights)\n",
        "\n",
        "    # loss\n",
        "    loss_avg = sum(local_loss) / len(local_loss)\n",
        "    print('Round: {}... \\tAverage Loss: {}'.format(current_round, round(loss_avg, 3)))\n",
        "    train_loss.append(loss_avg)\n",
        "    \n",
        "    # accuracy\n",
        "    acc_avg = sum(acc_) / len(acc_)\n",
        "    train_accuracy.append(acc_avg/2)\n",
        "\n",
        "  end = time.time()\n",
        "  \n",
        "  \n",
        "  fig, ax = plt.subplots()\n",
        "  x_axis = np.arange(1, rounds+1)\n",
        "  y_axis = np.array(train_loss)\n",
        "  ax.plot(x_axis, y_axis, 'tab:'+\"orange\")\n",
        "  ax.set(xlabel='Number of Rounds', ylabel='Training Loss', title=\"Loss Curve for tw0 clients\")\n",
        "  ax.grid()\n",
        "  fig.savefig('Loss_curve.jpg', format='jpg')\n",
        "\n",
        "  fig1, ax1 = plt.subplots()\n",
        "  x_axis1 = np.arange(1, rounds+1)\n",
        "  y_axis1 = np.array(train_accuracy)\n",
        "  ax1.plot(x_axis1, y_axis1, 'tab:'+\"blue\")\n",
        "  ax1.set(xlabel='Number of Rounds', ylabel='Training Accuracy', title=\"Accuracy Curve for two clients\")\n",
        "  ax1.grid()\n",
        "  fig1.savefig('Accuracy_Curve.jpg', format='jpg')\n",
        "  print(\"Training Done!\")\n",
        "  print(\"Total time taken to Train: {}\".format(end-start))\n",
        "\n",
<<<<<<< HEAD:Project_file/Client_Server.ipynb
        "  return model, sum(train_accuracy)/ len(train_accuracy), sum(train_loss)/len(train_loss)"
=======
        "  return model"
>>>>>>> c2141a36778e0b10fc3105f4142c413f5ec2f56c:Project_file/models/Client_Server.ipynb
      ]
    },
    {
      "cell_type": "code",
<<<<<<< HEAD:Project_file/Client_Server.ipynb
      "execution_count": 45,
=======
      "execution_count": 11,
>>>>>>> c2141a36778e0b10fc3105f4142c413f5ec2f56c:Project_file/models/Client_Server.ipynb
      "metadata": {
        "colab": {
          "base_uri": "https://localhost:8080/",
          "height": 1000
        },
        "id": "meZqdnAeNe_V",
        "outputId": "5268964b-364b-484d-e781-e125cde72a77"
      },
      "outputs": [
        {
<<<<<<< HEAD:Project_file/Client_Server.ipynb
          "ename": "AttributeError",
          "evalue": "'LogisticRegression' object has no attribute 'state_dict'",
          "output_type": "error",
          "traceback": [
            "\u001b[1;31m---------------------------------------------------------------------------\u001b[0m",
            "\u001b[1;31mAttributeError\u001b[0m                            Traceback (most recent call last)",
            "Cell \u001b[1;32mIn[45], line 6\u001b[0m\n\u001b[0;32m      3\u001b[0m \u001b[39mif\u001b[39;00m torch\u001b[39m.\u001b[39mcuda\u001b[39m.\u001b[39mis_available():\n\u001b[0;32m      4\u001b[0m   model\u001b[39m.\u001b[39mcuda()\n\u001b[1;32m----> 6\u001b[0m server_training, total_training_acc, total_training_loss \u001b[39m=\u001b[39m ss_train_r(model, \u001b[39m20\u001b[39;49m,\u001b[39m\"\u001b[39;49m\u001b[39mLoss Curve\u001b[39;49m\u001b[39m\"\u001b[39;49m)\n",
            "Cell \u001b[1;32mIn[44], line 4\u001b[0m, in \u001b[0;36mss_train_r\u001b[1;34m(model, rounds, plt_title)\u001b[0m\n\u001b[0;32m      1\u001b[0m \u001b[39mdef\u001b[39;00m \u001b[39mss_train_r\u001b[39m(model, rounds, plt_title\u001b[39m=\u001b[39m\u001b[39m\"\u001b[39m\u001b[39mLoss Curve\u001b[39m\u001b[39m\"\u001b[39m):\n\u001b[0;32m      2\u001b[0m   \n\u001b[0;32m      3\u001b[0m   \u001b[39m# global model weights\u001b[39;00m\n\u001b[1;32m----> 4\u001b[0m   global_weights \u001b[39m=\u001b[39m model\u001b[39m.\u001b[39;49mstate_dict()\n\u001b[0;32m      6\u001b[0m   \u001b[39m# training loss\u001b[39;00m\n\u001b[0;32m      7\u001b[0m   train_loss \u001b[39m=\u001b[39m []\n",
            "\u001b[1;31mAttributeError\u001b[0m: 'LogisticRegression' object has no attribute 'state_dict'"
          ]
=======
          "name": "stdout",
          "output_type": "stream",
          "text": [
            "Round: 1... \tAverage Loss: 1.503\n",
            "Round: 2... \tAverage Loss: 0.145\n",
            "Round: 3... \tAverage Loss: 0.098\n",
            "Round: 4... \tAverage Loss: 0.075\n",
            "Round: 5... \tAverage Loss: 0.062\n",
            "Round: 6... \tAverage Loss: 0.053\n",
            "Round: 7... \tAverage Loss: 0.046\n",
            "Round: 8... \tAverage Loss: 0.041\n",
            "Round: 9... \tAverage Loss: 0.037\n",
            "Round: 10... \tAverage Loss: 0.034\n",
            "Round: 11... \tAverage Loss: 0.031\n",
            "Round: 12... \tAverage Loss: 0.029\n",
            "Round: 13... \tAverage Loss: 0.027\n",
            "Round: 14... \tAverage Loss: 0.025\n",
            "Round: 15... \tAverage Loss: 0.024\n",
            "Round: 16... \tAverage Loss: 0.023\n",
            "Round: 17... \tAverage Loss: 0.021\n",
            "Round: 18... \tAverage Loss: 0.02\n",
            "Round: 19... \tAverage Loss: 0.019\n",
            "Round: 20... \tAverage Loss: 0.019\n",
            "Round: 21... \tAverage Loss: 0.018\n",
            "Round: 22... \tAverage Loss: 0.017\n",
            "Round: 23... \tAverage Loss: 0.016\n",
            "Round: 24... \tAverage Loss: 0.016\n",
            "Round: 25... \tAverage Loss: 0.015\n",
            "Round: 26... \tAverage Loss: 0.015\n",
            "Round: 27... \tAverage Loss: 0.014\n",
            "Round: 28... \tAverage Loss: 0.014\n",
            "Round: 29... \tAverage Loss: 0.013\n",
            "Round: 30... \tAverage Loss: 0.013\n",
            "Round: 31... \tAverage Loss: 0.013\n",
            "Round: 32... \tAverage Loss: 0.012\n",
            "Round: 33... \tAverage Loss: 0.012\n",
            "Round: 34... \tAverage Loss: 0.012\n",
            "Round: 35... \tAverage Loss: 0.011\n",
            "Round: 36... \tAverage Loss: 0.011\n",
            "Round: 37... \tAverage Loss: 0.011\n",
            "Round: 38... \tAverage Loss: 0.011\n",
            "Round: 39... \tAverage Loss: 0.01\n",
            "Round: 40... \tAverage Loss: 0.01\n",
            "Round: 41... \tAverage Loss: 0.01\n",
            "Round: 42... \tAverage Loss: 0.01\n",
            "Round: 43... \tAverage Loss: 0.01\n",
            "Round: 44... \tAverage Loss: 0.009\n",
            "Round: 45... \tAverage Loss: 0.009\n",
            "Round: 46... \tAverage Loss: 0.009\n",
            "Round: 47... \tAverage Loss: 0.009\n",
            "Round: 48... \tAverage Loss: 0.009\n",
            "Round: 49... \tAverage Loss: 0.009\n",
            "Round: 50... \tAverage Loss: 0.008\n",
            "Round: 51... \tAverage Loss: 0.008\n",
            "Round: 52... \tAverage Loss: 0.008\n",
            "Round: 53... \tAverage Loss: 0.008\n",
            "Round: 54... \tAverage Loss: 0.008\n",
            "Round: 55... \tAverage Loss: 0.008\n",
            "Round: 56... \tAverage Loss: 0.008\n",
            "Round: 57... \tAverage Loss: 0.008\n",
            "Round: 58... \tAverage Loss: 0.007\n",
            "Round: 59... \tAverage Loss: 0.007\n",
            "Round: 60... \tAverage Loss: 0.007\n",
            "Round: 61... \tAverage Loss: 0.007\n",
            "Round: 62... \tAverage Loss: 0.007\n",
            "Round: 63... \tAverage Loss: 0.007\n",
            "Round: 64... \tAverage Loss: 0.007\n",
            "Round: 65... \tAverage Loss: 0.007\n",
            "Round: 66... \tAverage Loss: 0.007\n",
            "Round: 67... \tAverage Loss: 0.007\n",
            "Round: 68... \tAverage Loss: 0.006\n",
            "Round: 69... \tAverage Loss: 0.006\n",
            "Round: 70... \tAverage Loss: 0.006\n",
            "Round: 71... \tAverage Loss: 0.006\n",
            "Round: 72... \tAverage Loss: 0.006\n",
            "Round: 73... \tAverage Loss: 0.006\n",
            "Round: 74... \tAverage Loss: 0.006\n",
            "Round: 75... \tAverage Loss: 0.006\n",
            "Round: 76... \tAverage Loss: 0.006\n",
            "Round: 77... \tAverage Loss: 0.006\n",
            "Round: 78... \tAverage Loss: 0.006\n",
            "Round: 79... \tAverage Loss: 0.006\n",
            "Round: 80... \tAverage Loss: 0.006\n",
            "Round: 81... \tAverage Loss: 0.006\n",
            "Round: 82... \tAverage Loss: 0.005\n",
            "Round: 83... \tAverage Loss: 0.005\n",
            "Round: 84... \tAverage Loss: 0.005\n",
            "Round: 85... \tAverage Loss: 0.005\n",
            "Round: 86... \tAverage Loss: 0.005\n",
            "Round: 87... \tAverage Loss: 0.005\n",
            "Round: 88... \tAverage Loss: 0.005\n",
            "Round: 89... \tAverage Loss: 0.005\n",
            "Round: 90... \tAverage Loss: 0.005\n",
            "Round: 91... \tAverage Loss: 0.005\n",
            "Round: 92... \tAverage Loss: 0.005\n",
            "Round: 93... \tAverage Loss: 0.005\n",
            "Round: 94... \tAverage Loss: 0.005\n",
            "Round: 95... \tAverage Loss: 0.005\n",
            "Round: 96... \tAverage Loss: 0.005\n",
            "Round: 97... \tAverage Loss: 0.005\n",
            "Round: 98... \tAverage Loss: 0.005\n",
            "Round: 99... \tAverage Loss: 0.005\n",
            "Round: 100... \tAverage Loss: 0.005\n",
            "Training Done!\n",
            "Total time taken to Train: 32.70249629020691\n"
          ]
        },
        {
          "data": {
            "image/png": "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",
            "text/plain": [
              "<Figure size 432x288 with 1 Axes>"
            ]
          },
          "metadata": {
            "needs_background": "light"
          },
          "output_type": "display_data"
>>>>>>> c2141a36778e0b10fc3105f4142c413f5ec2f56c:Project_file/models/Client_Server.ipynb
        }
      ],
      "source": [
        "model = LogisticRegression(n_features)\n",
        "\n",
        "if torch.cuda.is_available():\n",
        "  model.cuda()\n",
        "\n",
<<<<<<< HEAD:Project_file/Client_Server.ipynb
        "server_training, total_training_acc, total_training_loss = ss_train_r(model, 20,\"Loss Curve\")"
      ]
    },
    {
      "cell_type": "code",
      "execution_count": null,
      "metadata": {},
      "outputs": [],
      "source": [
        "X_test = test_df.iloc[:,:-1]\n",
        "y_test = test_df[\"label\"]\n",
        "le = preprocessing.LabelEncoder()\n",
        "y_test = le.fit_transform(client1_Y)\n",
        "X_test = X_test.to_numpy()\n",
        "# client1_Y = client1_Y.to_numpy()\n",
        "\n",
        "X_test = X_test.astype('float32')\n",
        "y_test = y_test.astype('float32')\n",
        "\n",
        "X_test = torch.from_numpy(X_test)\n",
        "y_test =torch.from_numpy(y_test)"
      ]
    },
    {
      "cell_type": "code",
      "execution_count": null,
      "metadata": {},
      "outputs": [],
      "source": [
        "print(\"Total Training Loss after {} rounds: {}\".format(100, total_training_loss))\n",
        "print(\"Total Training Accuracy after {} rounds: {}\".format(100, total_training_acc))"
      ]
    },
    {
      "cell_type": "code",
      "execution_count": null,
      "metadata": {},
      "outputs": [],
      "source": [
        "model = LogisticRegression(13)\n",
        "\n",
        "# calculate testing accuracy\n",
        "with torch.no_grad():\n",
        "    y_pred = model.forward(X_test)\n",
        "    predicted = torch.round(y_pred)\n",
        "    correct = (predicted == y_test).sum().item()\n",
        "    total = y_test.size(0)\n",
        "    test_acc = correct / total\n",
        "    print(f'Testing accuracy: {test_acc:.4f}')"
      ]
    },
    {
      "cell_type": "code",
      "execution_count": null,
      "metadata": {},
      "outputs": [
        {
          "data": {
            "image/png": "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",
            "text/plain": [
              "<Figure size 640x480 with 1 Axes>"
            ]
          },
          "metadata": {},
          "output_type": "display_data"
        }
      ],
      "source": [
        "import torch\n",
        "import torch.nn as nn\n",
        "import torch.optim as optim\n",
        "from sklearn.datasets import load_breast_cancer\n",
        "from sklearn.model_selection import train_test_split\n",
        "import numpy as np\n",
        "import matplotlib.pyplot as plt\n",
        "\n",
        "# Load the breast cancer dataset\n",
        "data = load_breast_cancer()\n",
        "\n",
        "# Split the data into training and testing sets\n",
        "X_train, X_test, y_train, y_test = train_test_split(data.data, data.target, test_size=0.2, random_state=42)\n",
        "\n",
        "# Define the neural network architecture\n",
        "class Net(nn.Module):\n",
        "    def __init__(self):\n",
        "        super(Net, self).__init__()\n",
        "        self.fc1 = nn.Linear(30, 10)\n",
        "        self.fc2 = nn.Linear(10, 1)\n",
        "\n",
        "    def forward(self, x):\n",
        "        x = torch.relu(self.fc1(x))\n",
        "        x = torch.sigmoid(self.fc2(x))\n",
        "        return x\n",
        "\n",
        "# Create an instance of the neural network\n",
        "net = Net()\n",
        "\n",
        "# Define the loss function and optimizer\n",
        "criterion = nn.BCELoss()\n",
        "optimizer = optim.SGD(net.parameters(), lr=0.01)\n",
        "\n",
        "# Train the neural network\n",
        "num_epochs = 1000\n",
        "train_losses = []\n",
        "train_accuracy = []\n",
        "for epoch in range(num_epochs):\n",
        "    # Train the model on the training data\n",
        "    net.train()\n",
        "    optimizer.zero_grad()\n",
        "    outputs = net(torch.tensor(X_train).float())\n",
        "    loss = criterion(outputs.squeeze(), torch.tensor(y_train).float())\n",
        "    loss.backward()\n",
        "    optimizer.step()\n",
        "    train_losses.append(loss.item())\n",
        "\n",
        "    # Evaluate the model on the training data\n",
        "    net.eval()\n",
        "    with torch.no_grad():\n",
        "        outputs = net(torch.tensor(X_train).float())\n",
        "        predicted = np.round(outputs.detach().numpy())\n",
        "        correct = (predicted == y_train.reshape(-1, 1)).sum().item()\n",
        "        accuracy = correct / len(y_train)\n",
        "        train_accuracy.append(accuracy)\n",
        "\n",
        "for i in range(len(train_accuracy)):  \n",
        "    plt.plot(range(10), train_accuracy[i], label=\"Client: {}\".format(values[i]))\n",
        "plt.xlabel('Epoch')\n",
        "plt.ylabel('Training Accuracy')\n",
        "plt.show()\n",
        "\n",
        "\n",
        "        # # Stop training if training accuracy reaches 50%\n",
        "        # if accuracy >= 0.5:\n",
        "        #     print(\"Training accuracy reached 50% at epoch\", epoch+1)\n",
        "        #     break\n",
        "\n",
        "# Plot the training accuracy over epochs\n",
        "plt.plot(train_accuracy)\n",
        "plt.xlabel('Epoch')\n",
        "plt.ylabel('Training Accuracy')\n",
        "plt.show()\n"
=======
        "server_training = ss_train_r(model, 100,\"Loss Curve\")"
>>>>>>> c2141a36778e0b10fc3105f4142c413f5ec2f56c:Project_file/models/Client_Server.ipynb
      ]
    },
    {
      "attachments": {},
      "cell_type": "markdown",
      "metadata": {
        "id": "wz3RW13QDt4N"
      },
      "source": [
        "# Training and Testing"
      ]
    },
    {
      "cell_type": "code",
      "execution_count": null,
      "metadata": {
        "id": "p_7yiXIsiqSY"
      },
      "outputs": [],
      "source": [
        "def data_partition(dataset, clients):\n",
        "  num_items_per_client = int(len(dataset)/clients)\n",
        "  client_dict = {}\n",
        "  image_idxs = [i for i in range(len(dataset))]\n",
        "\n",
        "  for i in range(clients):\n",
        "    client_dict[i] = set(np.random.choice(image_idxs, num_items_per_client, replace=False))\n",
        "    image_idxs = list(set(image_idxs) - client_dict[i])\n",
        "\n",
        "  return client_dict\n"
      ]
    },
    {
      "cell_type": "code",
<<<<<<< HEAD:Project_file/Client_Server.ipynb
      "execution_count": null,
=======
      "execution_count": 36,
>>>>>>> c2141a36778e0b10fc3105f4142c413f5ec2f56c:Project_file/models/Client_Server.ipynb
      "metadata": {
        "id": "s3TdolINjSdQ"
      },
      "outputs": [],
      "source": [
        "import pandas as pd\n",
        "import numpy as np"
      ]
    },
    {
      "cell_type": "code",
<<<<<<< HEAD:Project_file/Client_Server.ipynb
      "execution_count": null,
=======
      "execution_count": 37,
>>>>>>> c2141a36778e0b10fc3105f4142c413f5ec2f56c:Project_file/models/Client_Server.ipynb
      "metadata": {
        "id": "0L4la8ghi-rC"
      },
      "outputs": [],
      "source": [
<<<<<<< HEAD:Project_file/Client_Server.ipynb
        "data = pd.read_csv('C:\\\\Users\\\\intel\\\\Desktop\\\\Arjun Workspace\\\\B.Tech-Project---Federated-Learning\\\\Project_file\\\\Dataset\\\\feature_selected_voice_data.csv')"
=======
        "data = pd.read_csv(\"/content/feature_selected_voice_data.csv\")"
>>>>>>> c2141a36778e0b10fc3105f4142c413f5ec2f56c:Project_file/models/Client_Server.ipynb
      ]
    },
    {
      "cell_type": "code",
<<<<<<< HEAD:Project_file/Client_Server.ipynb
      "execution_count": null,
=======
      "execution_count": 38,
>>>>>>> c2141a36778e0b10fc3105f4142c413f5ec2f56c:Project_file/models/Client_Server.ipynb
      "metadata": {
        "id": "1Yk9_V8njPW7"
      },
      "outputs": [],
      "source": [
        "temp = data_partition(data, 2)"
      ]
    },
    {
      "cell_type": "code",
<<<<<<< HEAD:Project_file/Client_Server.ipynb
      "execution_count": null,
=======
      "execution_count": 39,
>>>>>>> c2141a36778e0b10fc3105f4142c413f5ec2f56c:Project_file/models/Client_Server.ipynb
      "metadata": {
        "colab": {
          "base_uri": "https://localhost:8080/"
        },
        "id": "cxUQo-g0jfUt",
        "outputId": "7b90a899-248e-48dd-caeb-925f412f3ed1"
      },
<<<<<<< HEAD:Project_file/Client_Server.ipynb
      "outputs": [],
=======
      "outputs": [
        {
          "name": "stdout",
          "output_type": "stream",
          "text": [
            "0 : {2, 3, 4, 5, 6, 9, 11, 13, 17, 19, 21, 22, 23, 27, 30, 31, 33, 34, 35, 36, 39, 43, 44, 45, 47, 49, 50, 53, 57, 63, 64, 65, 66, 67, 68, 70, 74, 75, 76, 82, 85, 86, 87, 88, 90, 92, 95, 96, 99, 100, 102, 103, 104, 106, 108, 109, 110, 111, 112, 114, 116, 117, 120, 125, 126, 127, 130, 131, 132, 134, 135, 136, 137, 138, 141, 145, 149, 151, 152, 155, 157, 161, 162, 163, 166, 168, 170, 173, 175, 177, 178, 179, 181, 182, 183, 184, 186, 188, 189, 190, 191, 197, 198, 200, 202, 203, 208, 210, 214, 215, 218, 219, 220, 224, 226, 229, 231, 234, 237, 238, 240, 243, 244, 245, 247, 250, 251, 253, 254, 255, 256, 258, 259, 261, 262, 268, 270, 271, 272, 273, 274, 275, 276, 277, 278, 280, 282, 284, 285, 286, 287, 288, 289, 290, 292, 293, 296, 297, 300, 302, 304, 306, 307, 308, 312, 315, 316, 317, 319, 320, 322, 323, 324, 326, 327, 328, 329, 330, 332, 334, 335, 336, 337, 340, 342, 344, 345, 349, 350, 356, 357, 358, 360, 364, 368, 370, 372, 373, 379, 382, 383, 385, 386, 388, 389, 390, 392, 395, 397, 399, 401, 402, 405, 410, 413, 415, 418, 423, 424, 425, 426, 432, 433, 434, 435, 438, 439, 440, 443, 444, 445, 446, 449, 451, 452, 453, 455, 457, 462, 465, 466, 470, 472, 476, 477, 479, 481, 482, 483, 485, 486, 487, 490, 491, 492, 494, 495, 496, 497, 498, 499, 500, 503, 505, 506, 508, 510, 512, 513, 517, 518, 519, 520, 523, 524, 525, 529, 530, 532, 533, 534, 537, 538, 541, 542, 543, 548, 551, 555, 556, 559, 560, 561, 563, 566, 570, 571, 572, 574, 576, 578, 580, 581, 582, 583, 588, 590, 591, 599, 600, 602, 603, 604, 605, 606, 608, 609, 611, 613, 616, 618, 622, 624, 625, 626, 630, 631, 636, 637, 643, 645, 646, 648, 649, 650, 651, 652, 653, 654, 656, 659, 661, 666, 667, 672, 674, 675, 677, 679, 680, 683, 685, 687, 690, 696, 697, 698, 700, 701, 703, 704, 705, 712, 714, 716, 719, 720, 721, 722, 723, 726, 728, 729, 731, 736, 737, 738, 739, 740, 742, 744, 746, 747, 748, 750, 751, 752, 755, 756, 759, 762, 764, 765, 766, 769, 770, 775, 776, 779, 780, 783, 785, 786, 787, 788, 789, 792, 793, 795, 796, 797, 798, 799, 801, 802, 811, 816, 817, 818, 819, 825, 826, 827, 829, 830, 831, 832, 833, 834, 836, 838, 843, 845, 846, 847, 849, 852, 856, 857, 859, 861, 865, 866, 868, 870, 871, 872, 873, 876, 879, 881, 883, 884, 885, 889, 890, 892, 894, 896, 898, 899, 900, 901, 902, 903, 907, 909, 910, 913, 916, 918, 919, 920, 921, 924, 926, 929, 931, 933, 934, 935, 936, 937, 938, 939, 942, 943, 950, 952, 953, 956, 957, 958, 959, 960, 965, 967, 968, 969, 970, 972, 976, 977, 978, 980, 981, 983, 984, 985, 987, 988, 991, 992, 993, 994, 997, 998, 1003, 1007, 1008, 1009, 1010, 1013, 1017, 1020, 1021, 1022, 1023, 1024, 1025, 1028, 1029, 1033, 1035, 1036, 1038, 1041, 1042, 1046, 1051, 1052, 1053, 1056, 1061, 1063, 1064, 1066, 1068, 1069, 1072, 1077, 1078, 1080, 1083, 1086, 1088, 1089, 1090, 1091, 1092, 1095, 1096, 1097, 1098, 1100, 1101, 1104, 1106, 1108, 1111, 1112, 1113, 1114, 1116, 1117, 1122, 1123, 1126, 1132, 1134, 1137, 1138, 1139, 1140, 1141, 1142, 1143, 1147, 1150, 1151, 1152, 1154, 1157, 1158, 1159, 1161, 1163, 1165, 1167, 1168, 1169, 1170, 1178, 1180, 1181, 1184, 1185, 1189, 1190, 1191, 1192, 1193, 1194, 1197, 1200, 1201, 1203, 1204, 1205, 1207, 1208, 1214, 1215, 1218, 1221, 1224, 1228, 1230, 1232, 1233, 1235, 1236, 1237, 1238, 1239, 1240, 1242, 1244, 1245, 1249, 1255, 1256, 1258, 1259, 1260, 1262, 1263, 1267, 1269, 1272, 1277, 1281, 1284, 1285, 1288, 1289, 1290, 1291, 1294, 1298, 1299, 1302, 1303, 1305, 1306, 1308, 1311, 1313, 1316, 1317, 1320, 1322, 1323, 1327, 1328, 1329, 1331, 1334, 1336, 1337, 1338, 1339, 1343, 1348, 1350, 1353, 1354, 1355, 1356, 1357, 1365, 1366, 1368, 1369, 1374, 1375, 1376, 1378, 1380, 1381, 1383, 1384, 1386, 1389, 1393, 1394, 1395, 1396, 1400, 1401, 1402, 1404, 1405, 1406, 1407, 1409, 1412, 1413, 1415, 1416, 1417, 1419, 1420, 1421, 1422, 1427, 1428, 1430, 1432, 1435, 1436, 1437, 1438, 1439, 1443, 1446, 1448, 1453, 1454, 1455, 1462, 1463, 1470, 1471, 1472, 1473, 1476, 1477, 1479, 1480, 1482, 1483, 1485, 1488, 1489, 1490, 1492, 1493, 1495, 1497, 1498, 1499, 1500, 1501, 1502, 1504, 1505, 1507, 1509, 1512, 1513, 1514, 1515, 1516, 1520, 1524, 1527, 1528, 1529, 1530, 1533, 1540, 1541, 1542, 1543, 1545, 1547, 1550, 1551, 1553, 1554, 1555, 1556, 1557, 1559, 1561, 1567, 1569, 1570, 1571, 1579, 1580, 1581, 1582, 1583, 1584, 1585, 1586, 1588, 1589, 1590, 1592, 1593, 1594, 1595, 1597, 1598, 1599, 1600, 1602, 1603, 1605, 1606, 1608, 1609, 1610, 1611, 1612, 1616, 1620, 1621, 1624, 1625, 1627, 1630, 1631, 1633, 1634, 1635, 1638, 1639, 1641, 1642, 1644, 1646, 1649, 1651, 1654, 1657, 1658, 1659, 1663, 1668, 1669, 1672, 1673, 1674, 1676, 1677, 1679, 1681, 1690, 1692, 1693, 1694, 1706, 1709, 1710, 1712, 1713, 1714, 1715, 1717, 1718, 1720, 1721, 1722, 1723, 1726, 1727, 1729, 1734, 1738, 1739, 1741, 1742, 1744, 1746, 1748, 1750, 1751, 1752, 1753, 1755, 1756, 1758, 1759, 1761, 1765, 1768, 1775, 1777, 1778, 1780, 1783, 1784, 1785, 1786, 1788, 1789, 1790, 1791, 1792, 1793, 1797, 1799, 1802, 1804, 1806, 1809, 1814, 1817, 1821, 1823, 1824, 1825, 1826, 1829, 1830, 1833, 1836, 1837, 1839, 1842, 1844, 1846, 1847, 1848, 1849, 1852, 1854, 1855, 1856, 1857, 1859, 1860, 1862, 1865, 1866, 1867, 1869, 1872, 1873, 1875, 1876, 1877, 1880, 1882, 1883, 1888, 1890, 1892, 1893, 1894, 1895, 1897, 1898, 1900, 1905, 1906, 1908, 1910, 1916, 1918, 1919, 1922, 1924, 1926, 1927, 1928, 1935, 1936, 1938, 1939, 1940, 1941, 1944, 1946, 1948, 1951, 1954, 1955, 1957, 1958, 1960, 1964, 1972, 1976, 1978, 1983, 1987, 1989, 1990, 1992, 1993, 1994, 1995, 1996, 2001, 2003, 2007, 2009, 2012, 2013, 2015, 2018, 2021, 2022, 2027, 2030, 2031, 2032, 2035, 2036, 2037, 2041, 2044, 2047, 2048, 2049, 2055, 2056, 2057, 2058, 2061, 2063, 2064, 2066, 2069, 2070, 2072, 2073, 2074, 2075, 2077, 2079, 2080, 2081, 2082, 2083, 2084, 2085, 2087, 2088, 2089, 2090, 2093, 2095, 2096, 2098, 2104, 2107, 2110, 2113, 2114, 2116, 2117, 2119, 2122, 2123, 2125, 2126, 2129, 2130, 2131, 2132, 2134, 2136, 2137, 2139, 2140, 2141, 2143, 2145, 2147, 2148, 2149, 2152, 2153, 2160, 2162, 2163, 2166, 2171, 2174, 2175, 2178, 2179, 2180, 2181, 2182, 2184, 2185, 2186, 2187, 2188, 2190, 2191, 2192, 2193, 2194, 2195, 2196, 2201, 2203, 2206, 2207, 2208, 2209, 2210, 2211, 2214, 2217, 2218, 2219, 2220, 2225, 2226, 2229, 2230, 2231, 2233, 2236, 2238, 2239, 2240, 2244, 2246, 2247, 2248, 2250, 2254, 2258, 2260, 2261, 2265, 2267, 2268, 2269, 2274, 2275, 2276, 2277, 2280, 2281, 2282, 2287, 2288, 2289, 2291, 2294, 2295, 2297, 2302, 2303, 2305, 2307, 2308, 2310, 2311, 2312, 2315, 2316, 2318, 2319, 2320, 2321, 2323, 2325, 2328, 2330, 2334, 2338, 2344, 2346, 2350, 2351, 2354, 2355, 2356, 2357, 2362, 2367, 2368, 2370, 2371, 2372, 2375, 2376, 2377, 2382, 2383, 2384, 2386, 2390, 2391, 2394, 2395, 2399, 2401, 2403, 2406, 2407, 2408, 2409, 2412, 2417, 2418, 2419, 2421, 2422, 2424, 2425, 2426, 2430, 2431, 2437, 2438, 2442, 2446, 2448, 2449, 2450, 2451, 2455, 2459, 2463, 2467, 2469, 2470, 2472, 2474, 2476, 2479, 2480, 2486, 2489, 2493, 2497, 2501, 2502, 2505, 2506, 2507, 2508, 2509, 2510, 2515, 2518, 2520, 2522, 2526, 2527, 2528, 2531, 2532, 2533, 2536, 2538, 2539, 2540, 2543, 2547, 2548, 2550, 2551, 2558, 2559, 2560, 2561, 2563, 2564, 2568, 2569, 2574, 2575, 2582, 2585, 2589, 2591, 2592, 2594, 2599, 2603, 2605, 2608, 2612, 2614, 2618, 2619, 2620, 2621, 2622, 2625, 2628, 2629, 2630, 2632, 2635, 2636, 2637, 2639, 2640, 2641, 2643, 2645, 2646, 2647, 2648, 2650, 2651, 2653, 2655, 2656, 2658, 2662, 2663, 2664, 2665, 2666, 2668, 2670, 2671, 2673, 2679, 2680, 2681, 2682, 2686, 2688, 2691, 2692, 2694, 2696, 2698, 2699, 2700, 2702, 2704, 2705, 2706, 2707, 2708, 2709, 2711, 2713, 2718, 2720, 2721, 2724, 2725, 2726, 2728, 2729, 2731, 2734, 2735, 2737, 2738, 2741, 2742, 2746, 2747, 2748, 2753, 2754, 2756, 2757, 2758, 2759, 2762, 2766, 2767, 2768, 2770, 2774, 2776, 2778, 2783, 2785, 2787, 2788, 2789, 2792, 2793, 2794, 2796, 2797, 2798, 2802, 2804, 2806, 2808, 2810, 2811, 2812, 2814, 2816, 2819, 2820, 2821, 2823, 2824, 2825, 2830, 2832, 2833, 2834, 2836, 2837, 2842, 2843, 2845, 2851, 2854, 2858, 2862, 2864, 2866, 2867, 2868, 2870, 2874, 2876, 2878, 2879, 2883, 2884, 2885, 2886, 2887, 2888, 2892, 2896, 2897, 2898, 2899, 2900, 2901, 2902, 2903, 2904, 2905, 2907, 2910, 2912, 2913, 2916, 2917, 2920, 2922, 2924, 2928, 2929, 2932, 2937, 2939, 2940, 2941, 2942, 2943, 2944, 2945, 2947, 2949, 2950, 2951, 2954, 2955, 2957, 2958, 2961, 2962, 2966, 2969, 2970, 2973, 2974, 2976, 2977, 2978, 2984, 2986, 2987, 2988, 2989, 2990, 2991, 2994, 2997, 2998, 3000, 3007, 3008, 3009, 3011, 3012, 3016, 3018, 3020, 3021, 3022, 3024, 3026, 3027, 3029, 3030, 3031, 3033, 3038, 3039, 3041, 3042, 3043, 3048, 3049, 3053, 3055, 3057, 3058, 3061, 3062, 3067, 3068, 3069, 3070, 3071, 3075, 3077, 3078, 3081, 3088, 3089, 3091, 3092, 3097, 3100, 3101, 3103, 3104, 3105, 3107, 3108, 3109, 3111, 3112, 3113, 3115, 3117, 3119, 3120, 3121, 3123, 3124, 3127, 3129, 3130, 3131, 3135, 3136, 3140, 3142, 3143, 3148, 3150, 3152, 3154, 3158, 3159, 3161, 3163, 3164, 3165, 3167}\n",
            "1 : {0, 1, 7, 8, 10, 12, 14, 15, 16, 18, 20, 24, 25, 26, 28, 29, 32, 37, 38, 40, 41, 42, 46, 48, 51, 52, 54, 55, 56, 58, 59, 60, 61, 62, 69, 71, 72, 73, 77, 78, 79, 80, 81, 83, 84, 89, 91, 93, 94, 97, 98, 101, 105, 107, 113, 115, 118, 119, 121, 122, 123, 124, 128, 129, 133, 139, 140, 142, 143, 144, 146, 147, 148, 150, 153, 154, 156, 158, 159, 160, 164, 165, 167, 169, 171, 172, 174, 176, 180, 185, 187, 192, 193, 194, 195, 196, 199, 201, 204, 205, 206, 207, 209, 211, 212, 213, 216, 217, 221, 222, 223, 225, 227, 228, 230, 232, 233, 235, 236, 239, 241, 242, 246, 248, 249, 252, 257, 260, 263, 264, 265, 266, 267, 269, 279, 281, 283, 291, 294, 295, 298, 299, 301, 303, 305, 309, 310, 311, 313, 314, 318, 321, 325, 331, 333, 338, 339, 341, 343, 346, 347, 348, 351, 352, 353, 354, 355, 359, 361, 362, 363, 365, 366, 367, 369, 371, 374, 375, 376, 377, 378, 380, 381, 384, 387, 391, 393, 394, 396, 398, 400, 403, 404, 406, 407, 408, 409, 411, 412, 414, 416, 417, 419, 420, 421, 422, 427, 428, 429, 430, 431, 436, 437, 441, 442, 447, 448, 450, 454, 456, 458, 459, 460, 461, 463, 464, 467, 468, 469, 471, 473, 474, 475, 478, 480, 484, 488, 489, 493, 501, 502, 504, 507, 509, 511, 514, 515, 516, 521, 522, 526, 527, 528, 531, 535, 536, 539, 540, 544, 545, 546, 547, 549, 550, 552, 553, 554, 557, 558, 562, 564, 565, 567, 568, 569, 573, 575, 577, 579, 584, 585, 586, 587, 589, 592, 593, 594, 595, 596, 597, 598, 601, 607, 610, 612, 614, 615, 617, 619, 620, 621, 623, 627, 628, 629, 632, 633, 634, 635, 638, 639, 640, 641, 642, 644, 647, 655, 657, 658, 660, 662, 663, 664, 665, 668, 669, 670, 671, 673, 676, 678, 681, 682, 684, 686, 688, 689, 691, 692, 693, 694, 695, 699, 702, 706, 707, 708, 709, 710, 711, 713, 715, 717, 718, 724, 725, 727, 730, 732, 733, 734, 735, 741, 743, 745, 749, 753, 754, 757, 758, 760, 761, 763, 767, 768, 771, 772, 773, 774, 777, 778, 781, 782, 784, 790, 791, 794, 800, 803, 804, 805, 806, 807, 808, 809, 810, 812, 813, 814, 815, 820, 821, 822, 823, 824, 828, 835, 837, 839, 840, 841, 842, 844, 848, 850, 851, 853, 854, 855, 858, 860, 862, 863, 864, 867, 869, 874, 875, 877, 878, 880, 882, 886, 887, 888, 891, 893, 895, 897, 904, 905, 906, 908, 911, 912, 914, 915, 917, 922, 923, 925, 927, 928, 930, 932, 940, 941, 944, 945, 946, 947, 948, 949, 951, 954, 955, 961, 962, 963, 964, 966, 971, 973, 974, 975, 979, 982, 986, 989, 990, 995, 996, 999, 1000, 1001, 1002, 1004, 1005, 1006, 1011, 1012, 1014, 1015, 1016, 1018, 1019, 1026, 1027, 1030, 1031, 1032, 1034, 1037, 1039, 1040, 1043, 1044, 1045, 1047, 1048, 1049, 1050, 1054, 1055, 1057, 1058, 1059, 1060, 1062, 1065, 1067, 1070, 1071, 1073, 1074, 1075, 1076, 1079, 1081, 1082, 1084, 1085, 1087, 1093, 1094, 1099, 1102, 1103, 1105, 1107, 1109, 1110, 1115, 1118, 1119, 1120, 1121, 1124, 1125, 1127, 1128, 1129, 1130, 1131, 1133, 1135, 1136, 1144, 1145, 1146, 1148, 1149, 1153, 1155, 1156, 1160, 1162, 1164, 1166, 1171, 1172, 1173, 1174, 1175, 1176, 1177, 1179, 1182, 1183, 1186, 1187, 1188, 1195, 1196, 1198, 1199, 1202, 1206, 1209, 1210, 1211, 1212, 1213, 1216, 1217, 1219, 1220, 1222, 1223, 1225, 1226, 1227, 1229, 1231, 1234, 1241, 1243, 1246, 1247, 1248, 1250, 1251, 1252, 1253, 1254, 1257, 1261, 1264, 1265, 1266, 1268, 1270, 1271, 1273, 1274, 1275, 1276, 1278, 1279, 1280, 1282, 1283, 1286, 1287, 1292, 1293, 1295, 1296, 1297, 1300, 1301, 1304, 1307, 1309, 1310, 1312, 1314, 1315, 1318, 1319, 1321, 1324, 1325, 1326, 1330, 1332, 1333, 1335, 1340, 1341, 1342, 1344, 1345, 1346, 1347, 1349, 1351, 1352, 1358, 1359, 1360, 1361, 1362, 1363, 1364, 1367, 1370, 1371, 1372, 1373, 1377, 1379, 1382, 1385, 1387, 1388, 1390, 1391, 1392, 1397, 1398, 1399, 1403, 1408, 1410, 1411, 1414, 1418, 1423, 1424, 1425, 1426, 1429, 1431, 1433, 1434, 1440, 1441, 1442, 1444, 1445, 1447, 1449, 1450, 1451, 1452, 1456, 1457, 1458, 1459, 1460, 1461, 1464, 1465, 1466, 1467, 1468, 1469, 1474, 1475, 1478, 1481, 1484, 1486, 1487, 1491, 1494, 1496, 1503, 1506, 1508, 1510, 1511, 1517, 1518, 1519, 1521, 1522, 1523, 1525, 1526, 1531, 1532, 1534, 1535, 1536, 1537, 1538, 1539, 1544, 1546, 1548, 1549, 1552, 1558, 1560, 1562, 1563, 1564, 1565, 1566, 1568, 1572, 1573, 1574, 1575, 1576, 1577, 1578, 1587, 1591, 1596, 1601, 1604, 1607, 1613, 1614, 1615, 1617, 1618, 1619, 1622, 1623, 1626, 1628, 1629, 1632, 1636, 1637, 1640, 1643, 1645, 1647, 1648, 1650, 1652, 1653, 1655, 1656, 1660, 1661, 1662, 1664, 1665, 1666, 1667, 1670, 1671, 1675, 1678, 1680, 1682, 1683, 1684, 1685, 1686, 1687, 1688, 1689, 1691, 1695, 1696, 1697, 1698, 1699, 1700, 1701, 1702, 1703, 1704, 1705, 1707, 1708, 1711, 1716, 1719, 1724, 1725, 1728, 1730, 1731, 1732, 1733, 1735, 1736, 1737, 1740, 1743, 1745, 1747, 1749, 1754, 1757, 1760, 1762, 1763, 1764, 1766, 1767, 1769, 1770, 1771, 1772, 1773, 1774, 1776, 1779, 1781, 1782, 1787, 1794, 1795, 1796, 1798, 1800, 1801, 1803, 1805, 1807, 1808, 1810, 1811, 1812, 1813, 1815, 1816, 1818, 1819, 1820, 1822, 1827, 1828, 1831, 1832, 1834, 1835, 1838, 1840, 1841, 1843, 1845, 1850, 1851, 1853, 1858, 1861, 1863, 1864, 1868, 1870, 1871, 1874, 1878, 1879, 1881, 1884, 1885, 1886, 1887, 1889, 1891, 1896, 1899, 1901, 1902, 1903, 1904, 1907, 1909, 1911, 1912, 1913, 1914, 1915, 1917, 1920, 1921, 1923, 1925, 1929, 1930, 1931, 1932, 1933, 1934, 1937, 1942, 1943, 1945, 1947, 1949, 1950, 1952, 1953, 1956, 1959, 1961, 1962, 1963, 1965, 1966, 1967, 1968, 1969, 1970, 1971, 1973, 1974, 1975, 1977, 1979, 1980, 1981, 1982, 1984, 1985, 1986, 1988, 1991, 1997, 1998, 1999, 2000, 2002, 2004, 2005, 2006, 2008, 2010, 2011, 2014, 2016, 2017, 2019, 2020, 2023, 2024, 2025, 2026, 2028, 2029, 2033, 2034, 2038, 2039, 2040, 2042, 2043, 2045, 2046, 2050, 2051, 2052, 2053, 2054, 2059, 2060, 2062, 2065, 2067, 2068, 2071, 2076, 2078, 2086, 2091, 2092, 2094, 2097, 2099, 2100, 2101, 2102, 2103, 2105, 2106, 2108, 2109, 2111, 2112, 2115, 2118, 2120, 2121, 2124, 2127, 2128, 2133, 2135, 2138, 2142, 2144, 2146, 2150, 2151, 2154, 2155, 2156, 2157, 2158, 2159, 2161, 2164, 2165, 2167, 2168, 2169, 2170, 2172, 2173, 2176, 2177, 2183, 2189, 2197, 2198, 2199, 2200, 2202, 2204, 2205, 2212, 2213, 2215, 2216, 2221, 2222, 2223, 2224, 2227, 2228, 2232, 2234, 2235, 2237, 2241, 2242, 2243, 2245, 2249, 2251, 2252, 2253, 2255, 2256, 2257, 2259, 2262, 2263, 2264, 2266, 2270, 2271, 2272, 2273, 2278, 2279, 2283, 2284, 2285, 2286, 2290, 2292, 2293, 2296, 2298, 2299, 2300, 2301, 2304, 2306, 2309, 2313, 2314, 2317, 2322, 2324, 2326, 2327, 2329, 2331, 2332, 2333, 2335, 2336, 2337, 2339, 2340, 2341, 2342, 2343, 2345, 2347, 2348, 2349, 2352, 2353, 2358, 2359, 2360, 2361, 2363, 2364, 2365, 2366, 2369, 2373, 2374, 2378, 2379, 2380, 2381, 2385, 2387, 2388, 2389, 2392, 2393, 2396, 2397, 2398, 2400, 2402, 2404, 2405, 2410, 2411, 2413, 2414, 2415, 2416, 2420, 2423, 2427, 2428, 2429, 2432, 2433, 2434, 2435, 2436, 2439, 2440, 2441, 2443, 2444, 2445, 2447, 2452, 2453, 2454, 2456, 2457, 2458, 2460, 2461, 2462, 2464, 2465, 2466, 2468, 2471, 2473, 2475, 2477, 2478, 2481, 2482, 2483, 2484, 2485, 2487, 2488, 2490, 2491, 2492, 2494, 2495, 2496, 2498, 2499, 2500, 2503, 2504, 2511, 2512, 2513, 2514, 2516, 2517, 2519, 2521, 2523, 2524, 2525, 2529, 2530, 2534, 2535, 2537, 2541, 2542, 2544, 2545, 2546, 2549, 2552, 2553, 2554, 2555, 2556, 2557, 2562, 2565, 2566, 2567, 2570, 2571, 2572, 2573, 2576, 2577, 2578, 2579, 2580, 2581, 2583, 2584, 2586, 2587, 2588, 2590, 2593, 2595, 2596, 2597, 2598, 2600, 2601, 2602, 2604, 2606, 2607, 2609, 2610, 2611, 2613, 2615, 2616, 2617, 2623, 2624, 2626, 2627, 2631, 2633, 2634, 2638, 2642, 2644, 2649, 2652, 2654, 2657, 2659, 2660, 2661, 2667, 2669, 2672, 2674, 2675, 2676, 2677, 2678, 2683, 2684, 2685, 2687, 2689, 2690, 2693, 2695, 2697, 2701, 2703, 2710, 2712, 2714, 2715, 2716, 2717, 2719, 2722, 2723, 2727, 2730, 2732, 2733, 2736, 2739, 2740, 2743, 2744, 2745, 2749, 2750, 2751, 2752, 2755, 2760, 2761, 2763, 2764, 2765, 2769, 2771, 2772, 2773, 2775, 2777, 2779, 2780, 2781, 2782, 2784, 2786, 2790, 2791, 2795, 2799, 2800, 2801, 2803, 2805, 2807, 2809, 2813, 2815, 2817, 2818, 2822, 2826, 2827, 2828, 2829, 2831, 2835, 2838, 2839, 2840, 2841, 2844, 2846, 2847, 2848, 2849, 2850, 2852, 2853, 2855, 2856, 2857, 2859, 2860, 2861, 2863, 2865, 2869, 2871, 2872, 2873, 2875, 2877, 2880, 2881, 2882, 2889, 2890, 2891, 2893, 2894, 2895, 2906, 2908, 2909, 2911, 2914, 2915, 2918, 2919, 2921, 2923, 2925, 2926, 2927, 2930, 2931, 2933, 2934, 2935, 2936, 2938, 2946, 2948, 2952, 2953, 2956, 2959, 2960, 2963, 2964, 2965, 2967, 2968, 2971, 2972, 2975, 2979, 2980, 2981, 2982, 2983, 2985, 2992, 2993, 2995, 2996, 2999, 3001, 3002, 3003, 3004, 3005, 3006, 3010, 3013, 3014, 3015, 3017, 3019, 3023, 3025, 3028, 3032, 3034, 3035, 3036, 3037, 3040, 3044, 3045, 3046, 3047, 3050, 3051, 3052, 3054, 3056, 3059, 3060, 3063, 3064, 3065, 3066, 3072, 3073, 3074, 3076, 3079, 3080, 3082, 3083, 3084, 3085, 3086, 3087, 3090, 3093, 3094, 3095, 3096, 3098, 3099, 3102, 3106, 3110, 3114, 3116, 3118, 3122, 3125, 3126, 3128, 3132, 3133, 3134, 3137, 3138, 3139, 3141, 3144, 3145, 3146, 3147, 3149, 3151, 3153, 3155, 3156, 3157, 3160, 3162, 3166}\n"
          ]
        }
      ],
>>>>>>> c2141a36778e0b10fc3105f4142c413f5ec2f56c:Project_file/models/Client_Server.ipynb
      "source": [
        "for key,value in temp.items():\n",
        "\tprint(key, ':', value)"
      ]
    },
    {
      "cell_type": "code",
<<<<<<< HEAD:Project_file/Client_Server.ipynb
      "execution_count": null,
=======
      "execution_count": 40,
>>>>>>> c2141a36778e0b10fc3105f4142c413f5ec2f56c:Project_file/models/Client_Server.ipynb
      "metadata": {
        "id": "R2qjoVUxkQ_I"
      },
      "outputs": [],
      "source": [
        "from torch.utils.data import Dataset, DataLoader\n",
        "from torch.utils.tensorboard import SummaryWriter\n",
        "from torchvision import transforms, utils, datasets\n",
        "from torchsummary import summary"
      ]
    },
    {
      "cell_type": "code",
<<<<<<< HEAD:Project_file/Client_Server.ipynb
      "execution_count": null,
=======
      "execution_count": 54,
>>>>>>> c2141a36778e0b10fc3105f4142c413f5ec2f56c:Project_file/models/Client_Server.ipynb
      "metadata": {
        "id": "g78CP9pkjz9Q"
      },
      "outputs": [],
      "source": [
        "class CustomDataset(Dataset):\n",
        "  def __init__(self, dataset, idxs):\n",
        "      self.dataset = Dataset\n",
        "      self.idxs = list(idxs)\n",
        "\n",
        "  def __len__(self):\n",
        "      return len(self.idxs)\n",
        "\n",
        "  def __getitem__(self, item):\n",
        "      X_train, y_train = self.dataset[self.idxs[item]]\n",
        "      return X_train, y_train"
      ]
    },
    {
      "cell_type": "code",
<<<<<<< HEAD:Project_file/Client_Server.ipynb
      "execution_count": null,
=======
      "execution_count": 56,
>>>>>>> c2141a36778e0b10fc3105f4142c413f5ec2f56c:Project_file/models/Client_Server.ipynb
      "metadata": {
        "id": "EmmlE05NCZY0"
      },
      "outputs": [],
      "source": [
        "train_loader = DataLoader(CustomDataset(data, temp[1]), batch_size=100, shuffle=True)\n"
      ]
    },
    {
      "cell_type": "code",
<<<<<<< HEAD:Project_file/Client_Server.ipynb
      "execution_count": null,
=======
      "execution_count": 57,
>>>>>>> c2141a36778e0b10fc3105f4142c413f5ec2f56c:Project_file/models/Client_Server.ipynb
      "metadata": {
        "colab": {
          "base_uri": "https://localhost:8080/"
        },
        "id": "2WOHYIIuCajo",
        "outputId": "6038e149-9025-4b4d-8a3c-9e2d76a81f58"
      },
<<<<<<< HEAD:Project_file/Client_Server.ipynb
      "outputs": [],
=======
      "outputs": [
        {
          "data": {
            "text/plain": [
              "<torch.utils.data.dataloader.DataLoader at 0x7fca39f2bfa0>"
            ]
          },
          "execution_count": 57,
          "metadata": {},
          "output_type": "execute_result"
        }
      ],
>>>>>>> c2141a36778e0b10fc3105f4142c413f5ec2f56c:Project_file/models/Client_Server.ipynb
      "source": []
    },
    {
      "cell_type": "code",
      "execution_count": null,
      "metadata": {
        "id": "naPpfP_V3Gw2"
      },
      "outputs": [],
      "source": [
        "for X_train, y_train in train_loader:\n",
        "  if torch.cuda.is_available():\n",
        "    X_train, y_train = X_train.cuda(), y_train.cuda()"
      ]
    },
    {
      "cell_type": "code",
<<<<<<< HEAD:Project_file/Client_Server.ipynb
      "execution_count": null,
=======
      "execution_count": 45,
>>>>>>> c2141a36778e0b10fc3105f4142c413f5ec2f56c:Project_file/models/Client_Server.ipynb
      "metadata": {
        "id": "Xrk3ydX2168G"
      },
      "outputs": [],
      "source": [
        "# logistic regression class\n",
        "class LogisticRegression(nn.Module):\n",
        "    def __init__(self, n_input_features):\n",
        "        super(LogisticRegression, self).__init__()\n",
        "        self.linear = nn.Linear(n_input_features, 1)\n",
        "    \n",
        "    #sigmoid transformation of the input \n",
        "    def forward(self, x):\n",
        "        y_pred = torch.sigmoid(self.linear(x))\n",
        "        return y_pred"
      ]
    },
    {
      "cell_type": "code",
      "execution_count": null,
      "metadata": {
        "id": "8PuaOsD52jtK"
      },
      "outputs": [],
      "source": [
        "Model_LR = LogisticRegression()"
      ]
    },
    {
      "cell_type": "code",
<<<<<<< HEAD:Project_file/Client_Server.ipynb
      "execution_count": null,
=======
      "execution_count": 46,
>>>>>>> c2141a36778e0b10fc3105f4142c413f5ec2f56c:Project_file/models/Client_Server.ipynb
      "metadata": {
        "id": "D_1Nba_HxBKH"
      },
      "outputs": [],
      "source": [
        "import torch\n",
        "import torch.nn as nn\n",
        "import torch.nn.functional as F"
      ]
    },
    {
      "cell_type": "code",
<<<<<<< HEAD:Project_file/Client_Server.ipynb
      "execution_count": null,
=======
      "execution_count": 47,
>>>>>>> c2141a36778e0b10fc3105f4142c413f5ec2f56c:Project_file/models/Client_Server.ipynb
      "metadata": {
        "id": "rn9yPJkCkHsT"
      },
      "outputs": [],
      "source": [
        "def train(model):\n",
        "  for idxs in range(2):\n",
        "    train_loader = DataLoader(CustomDataset(data, temp[0]), batch_size=100, shuffle=True)\n",
        "    \n",
        "    criterion = nn.CrossEntropyLoss()\n",
        "    optimizer = torch.optim.SGD(model.parameters(), lr=self.learning_rate, momentum=0.5)\n",
        "    # optimizer = torch.optim.Adam(model.parameters(), lr=self.learning_rate)\n",
        "\n",
        "    \n",
        "    for X_train, y_train in train_loader:\n",
        "      if torch.cuda.is_available():\n",
        "        X_train, y_train = X_train.cuda(), y_train.cuda()\n",
        "\n",
        "        \n"
      ]
    }
  ],
  "metadata": {
    "colab": {
      "collapsed_sections": [
        "wz3RW13QDt4N",
        "lBbpuxK9C37x"
      ],
      "provenance": []
    },
    "kernelspec": {
      "display_name": "Python 3",
      "name": "python3"
    },
    "language_info": {
      "codemirror_mode": {
        "name": "ipython",
        "version": 3
      },
      "file_extension": ".py",
      "mimetype": "text/x-python",
      "name": "python",
      "nbconvert_exporter": "python",
      "pygments_lexer": "ipython3",
<<<<<<< HEAD:Project_file/Client_Server.ipynb
      "version": "3.9.13"
=======
      "version": "3.11.2"
>>>>>>> c2141a36778e0b10fc3105f4142c413f5ec2f56c:Project_file/models/Client_Server.ipynb
    }
  },
  "nbformat": 4,
  "nbformat_minor": 0
}
