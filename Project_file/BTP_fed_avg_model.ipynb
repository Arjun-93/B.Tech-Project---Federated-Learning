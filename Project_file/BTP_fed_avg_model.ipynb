{
  "nbformat": 4,
  "nbformat_minor": 0,
  "metadata": {
    "colab": {
      "provenance": [],
      "collapsed_sections": []
    },
    "kernelspec": {
      "name": "python3",
      "display_name": "Python 3"
    },
    "language_info": {
      "name": "python"
    }
  },
  "cells": [
    {
      "cell_type": "markdown",
      "source": [
        "# Fed AVeraging "
      ],
      "metadata": {
        "id": "HCQVCVdYiLDs"
      }
    },
    {
      "cell_type": "markdown",
      "source": [
        "Importing Libraries"
      ],
      "metadata": {
        "id": "J5jKCJSCtluH"
      }
    },
    {
      "cell_type": "code",
      "source": [
        "import pandas as pd\n",
        "import numpy as np\n",
        "import torch\n",
        "import torch.nn as nn\n",
        "from sklearn.utils import resample\n",
        "from sklearn import preprocessing\n",
        "from sklearn.preprocessing import StandardScaler\n",
        "from sklearn.model_selection import train_test_split\n",
        "from warnings import filterwarnings\n",
        "filterwarnings('ignore')\n",
        "\n",
        "from sklearn import preprocessing\n",
        "from torch.utils.data import Dataset, DataLoader\n",
        "from torch.utils.tensorboard import SummaryWriter\n",
        "from torchvision import transforms, utils, datasets\n",
        "from torchsummary import summary"
      ],
      "metadata": {
        "id": "n4111eSbiGLX"
      },
      "execution_count": 1,
      "outputs": []
    },
    {
      "cell_type": "markdown",
      "source": [
        "Data Analysis"
      ],
      "metadata": {
        "id": "wfYnkLdsts1x"
      }
    },
    {
      "cell_type": "code",
      "source": [
        "data = pd.read_csv(\"/content/feature_selected_voice_data.csv\")\n",
        "print(data.shape)         # Lookiing the shape of the data\n",
        "print(data.columns)       # Looking how many columns data has\n",
        "data.dtypes  \n",
        "data.head()"
      ],
      "metadata": {
        "colab": {
          "base_uri": "https://localhost:8080/",
          "height": 276
        },
        "id": "4zAWJMQWoJkV",
        "outputId": "1ce3447c-0df7-4953-e8ff-f42cb96f2495"
      },
      "execution_count": 2,
      "outputs": [
        {
          "output_type": "stream",
          "name": "stdout",
          "text": [
            "(3168, 14)\n",
            "Index(['meanfreq', 'sd', 'median', 'Q25', 'Q75', 'IQR', 'kurt', 'sp.ent',\n",
            "       'sfm', 'mode', 'meanfun', 'minfun', 'modindx', 'label'],\n",
            "      dtype='object')\n"
          ]
        },
        {
          "output_type": "execute_result",
          "data": {
            "text/plain": [
              "   meanfreq        sd    median       Q25       Q75       IQR         kurt  \\\n",
              "0  0.059781  0.064241  0.032027  0.015071  0.090193  0.075122   274.402906   \n",
              "1  0.066009  0.067310  0.040229  0.019414  0.092666  0.073252   634.613855   \n",
              "2  0.077316  0.083829  0.036718  0.008701  0.131908  0.123207  1024.927705   \n",
              "3  0.151228  0.072111  0.158011  0.096582  0.207955  0.111374     4.177296   \n",
              "4  0.135120  0.079146  0.124656  0.078720  0.206045  0.127325     4.333713   \n",
              "\n",
              "     sp.ent       sfm      mode   meanfun    minfun   modindx label  \n",
              "0  0.893369  0.491918  0.000000  0.084279  0.015702  0.000000  male  \n",
              "1  0.892193  0.513724  0.000000  0.107937  0.015826  0.052632  male  \n",
              "2  0.846389  0.478905  0.000000  0.098706  0.015656  0.046512  male  \n",
              "3  0.963322  0.727232  0.083878  0.088965  0.017798  0.247119  male  \n",
              "4  0.971955  0.783568  0.104261  0.106398  0.016931  0.208274  male  "
            ],
            "text/html": [
              "\n",
              "  <div id=\"df-a0d66e35-0063-4c4a-a081-415f78d3f6ab\">\n",
              "    <div class=\"colab-df-container\">\n",
              "      <div>\n",
              "<style scoped>\n",
              "    .dataframe tbody tr th:only-of-type {\n",
              "        vertical-align: middle;\n",
              "    }\n",
              "\n",
              "    .dataframe tbody tr th {\n",
              "        vertical-align: top;\n",
              "    }\n",
              "\n",
              "    .dataframe thead th {\n",
              "        text-align: right;\n",
              "    }\n",
              "</style>\n",
              "<table border=\"1\" class=\"dataframe\">\n",
              "  <thead>\n",
              "    <tr style=\"text-align: right;\">\n",
              "      <th></th>\n",
              "      <th>meanfreq</th>\n",
              "      <th>sd</th>\n",
              "      <th>median</th>\n",
              "      <th>Q25</th>\n",
              "      <th>Q75</th>\n",
              "      <th>IQR</th>\n",
              "      <th>kurt</th>\n",
              "      <th>sp.ent</th>\n",
              "      <th>sfm</th>\n",
              "      <th>mode</th>\n",
              "      <th>meanfun</th>\n",
              "      <th>minfun</th>\n",
              "      <th>modindx</th>\n",
              "      <th>label</th>\n",
              "    </tr>\n",
              "  </thead>\n",
              "  <tbody>\n",
              "    <tr>\n",
              "      <th>0</th>\n",
              "      <td>0.059781</td>\n",
              "      <td>0.064241</td>\n",
              "      <td>0.032027</td>\n",
              "      <td>0.015071</td>\n",
              "      <td>0.090193</td>\n",
              "      <td>0.075122</td>\n",
              "      <td>274.402906</td>\n",
              "      <td>0.893369</td>\n",
              "      <td>0.491918</td>\n",
              "      <td>0.000000</td>\n",
              "      <td>0.084279</td>\n",
              "      <td>0.015702</td>\n",
              "      <td>0.000000</td>\n",
              "      <td>male</td>\n",
              "    </tr>\n",
              "    <tr>\n",
              "      <th>1</th>\n",
              "      <td>0.066009</td>\n",
              "      <td>0.067310</td>\n",
              "      <td>0.040229</td>\n",
              "      <td>0.019414</td>\n",
              "      <td>0.092666</td>\n",
              "      <td>0.073252</td>\n",
              "      <td>634.613855</td>\n",
              "      <td>0.892193</td>\n",
              "      <td>0.513724</td>\n",
              "      <td>0.000000</td>\n",
              "      <td>0.107937</td>\n",
              "      <td>0.015826</td>\n",
              "      <td>0.052632</td>\n",
              "      <td>male</td>\n",
              "    </tr>\n",
              "    <tr>\n",
              "      <th>2</th>\n",
              "      <td>0.077316</td>\n",
              "      <td>0.083829</td>\n",
              "      <td>0.036718</td>\n",
              "      <td>0.008701</td>\n",
              "      <td>0.131908</td>\n",
              "      <td>0.123207</td>\n",
              "      <td>1024.927705</td>\n",
              "      <td>0.846389</td>\n",
              "      <td>0.478905</td>\n",
              "      <td>0.000000</td>\n",
              "      <td>0.098706</td>\n",
              "      <td>0.015656</td>\n",
              "      <td>0.046512</td>\n",
              "      <td>male</td>\n",
              "    </tr>\n",
              "    <tr>\n",
              "      <th>3</th>\n",
              "      <td>0.151228</td>\n",
              "      <td>0.072111</td>\n",
              "      <td>0.158011</td>\n",
              "      <td>0.096582</td>\n",
              "      <td>0.207955</td>\n",
              "      <td>0.111374</td>\n",
              "      <td>4.177296</td>\n",
              "      <td>0.963322</td>\n",
              "      <td>0.727232</td>\n",
              "      <td>0.083878</td>\n",
              "      <td>0.088965</td>\n",
              "      <td>0.017798</td>\n",
              "      <td>0.247119</td>\n",
              "      <td>male</td>\n",
              "    </tr>\n",
              "    <tr>\n",
              "      <th>4</th>\n",
              "      <td>0.135120</td>\n",
              "      <td>0.079146</td>\n",
              "      <td>0.124656</td>\n",
              "      <td>0.078720</td>\n",
              "      <td>0.206045</td>\n",
              "      <td>0.127325</td>\n",
              "      <td>4.333713</td>\n",
              "      <td>0.971955</td>\n",
              "      <td>0.783568</td>\n",
              "      <td>0.104261</td>\n",
              "      <td>0.106398</td>\n",
              "      <td>0.016931</td>\n",
              "      <td>0.208274</td>\n",
              "      <td>male</td>\n",
              "    </tr>\n",
              "  </tbody>\n",
              "</table>\n",
              "</div>\n",
              "      <button class=\"colab-df-convert\" onclick=\"convertToInteractive('df-a0d66e35-0063-4c4a-a081-415f78d3f6ab')\"\n",
              "              title=\"Convert this dataframe to an interactive table.\"\n",
              "              style=\"display:none;\">\n",
              "        \n",
              "  <svg xmlns=\"http://www.w3.org/2000/svg\" height=\"24px\"viewBox=\"0 0 24 24\"\n",
              "       width=\"24px\">\n",
              "    <path d=\"M0 0h24v24H0V0z\" fill=\"none\"/>\n",
              "    <path d=\"M18.56 5.44l.94 2.06.94-2.06 2.06-.94-2.06-.94-.94-2.06-.94 2.06-2.06.94zm-11 1L8.5 8.5l.94-2.06 2.06-.94-2.06-.94L8.5 2.5l-.94 2.06-2.06.94zm10 10l.94 2.06.94-2.06 2.06-.94-2.06-.94-.94-2.06-.94 2.06-2.06.94z\"/><path d=\"M17.41 7.96l-1.37-1.37c-.4-.4-.92-.59-1.43-.59-.52 0-1.04.2-1.43.59L10.3 9.45l-7.72 7.72c-.78.78-.78 2.05 0 2.83L4 21.41c.39.39.9.59 1.41.59.51 0 1.02-.2 1.41-.59l7.78-7.78 2.81-2.81c.8-.78.8-2.07 0-2.86zM5.41 20L4 18.59l7.72-7.72 1.47 1.35L5.41 20z\"/>\n",
              "  </svg>\n",
              "      </button>\n",
              "      \n",
              "  <style>\n",
              "    .colab-df-container {\n",
              "      display:flex;\n",
              "      flex-wrap:wrap;\n",
              "      gap: 12px;\n",
              "    }\n",
              "\n",
              "    .colab-df-convert {\n",
              "      background-color: #E8F0FE;\n",
              "      border: none;\n",
              "      border-radius: 50%;\n",
              "      cursor: pointer;\n",
              "      display: none;\n",
              "      fill: #1967D2;\n",
              "      height: 32px;\n",
              "      padding: 0 0 0 0;\n",
              "      width: 32px;\n",
              "    }\n",
              "\n",
              "    .colab-df-convert:hover {\n",
              "      background-color: #E2EBFA;\n",
              "      box-shadow: 0px 1px 2px rgba(60, 64, 67, 0.3), 0px 1px 3px 1px rgba(60, 64, 67, 0.15);\n",
              "      fill: #174EA6;\n",
              "    }\n",
              "\n",
              "    [theme=dark] .colab-df-convert {\n",
              "      background-color: #3B4455;\n",
              "      fill: #D2E3FC;\n",
              "    }\n",
              "\n",
              "    [theme=dark] .colab-df-convert:hover {\n",
              "      background-color: #434B5C;\n",
              "      box-shadow: 0px 1px 3px 1px rgba(0, 0, 0, 0.15);\n",
              "      filter: drop-shadow(0px 1px 2px rgba(0, 0, 0, 0.3));\n",
              "      fill: #FFFFFF;\n",
              "    }\n",
              "  </style>\n",
              "\n",
              "      <script>\n",
              "        const buttonEl =\n",
              "          document.querySelector('#df-a0d66e35-0063-4c4a-a081-415f78d3f6ab button.colab-df-convert');\n",
              "        buttonEl.style.display =\n",
              "          google.colab.kernel.accessAllowed ? 'block' : 'none';\n",
              "\n",
              "        async function convertToInteractive(key) {\n",
              "          const element = document.querySelector('#df-a0d66e35-0063-4c4a-a081-415f78d3f6ab');\n",
              "          const dataTable =\n",
              "            await google.colab.kernel.invokeFunction('convertToInteractive',\n",
              "                                                     [key], {});\n",
              "          if (!dataTable) return;\n",
              "\n",
              "          const docLinkHtml = 'Like what you see? Visit the ' +\n",
              "            '<a target=\"_blank\" href=https://colab.research.google.com/notebooks/data_table.ipynb>data table notebook</a>'\n",
              "            + ' to learn more about interactive tables.';\n",
              "          element.innerHTML = '';\n",
              "          dataTable['output_type'] = 'display_data';\n",
              "          await google.colab.output.renderOutput(dataTable, element);\n",
              "          const docLink = document.createElement('div');\n",
              "          docLink.innerHTML = docLinkHtml;\n",
              "          element.appendChild(docLink);\n",
              "        }\n",
              "      </script>\n",
              "    </div>\n",
              "  </div>\n",
              "  "
            ]
          },
          "metadata": {},
          "execution_count": 2
        }
      ]
    },
    {
      "cell_type": "code",
      "source": [
        "data[\"label\"].value_counts()"
      ],
      "metadata": {
        "colab": {
          "base_uri": "https://localhost:8080/"
        },
        "id": "CtCfCJpWoJgf",
        "outputId": "fd9c1b8c-3e89-4819-e2d5-42c28376c081"
      },
      "execution_count": 3,
      "outputs": [
        {
          "output_type": "execute_result",
          "data": {
            "text/plain": [
              "male      1584\n",
              "female    1584\n",
              "Name: label, dtype: int64"
            ]
          },
          "metadata": {},
          "execution_count": 3
        }
      ]
    },
    {
      "cell_type": "code",
      "source": [
        "X = data.iloc[:,:-1]\n",
        "Y = data[\"label\"]"
      ],
      "metadata": {
        "id": "4d0ziPEcu9b4"
      },
      "execution_count": 4,
      "outputs": []
    },
    {
      "cell_type": "code",
      "source": [
        "# Encoding the labels in digits}\n",
        "le = preprocessing.LabelEncoder()\n",
        "Y = le.fit_transform(Y)"
      ],
      "metadata": {
        "id": "LMpl1QqeoJbk"
      },
      "execution_count": 5,
      "outputs": []
    },
    {
      "cell_type": "code",
      "source": [
        "sc = StandardScaler()  \n",
        "X = sc.fit_transform(X)      \n",
        "X = sc.transform(X)"
      ],
      "metadata": {
        "id": "p3FBZBAwujEm"
      },
      "execution_count": 6,
      "outputs": []
    },
    {
      "cell_type": "code",
      "source": [
        "n_samples, n_features = X.shape"
      ],
      "metadata": {
        "id": "moA0B62cx6SP"
      },
      "execution_count": 7,
      "outputs": []
    },
    {
      "cell_type": "code",
      "source": [
        "# Splitting the Dataset\n",
        "X_train, X_test, y_train, y_test = train_test_split(X, Y, test_size=0.30, random_state=42, stratify = Y)\n",
        "print((y_train == 1).sum())\n",
        "print((y_train == 0).sum())"
      ],
      "metadata": {
        "colab": {
          "base_uri": "https://localhost:8080/"
        },
        "id": "tSgXq9iSu0eD",
        "outputId": "9a66b1de-2fe1-4132-b272-2a3b0819cce1"
      },
      "execution_count": 8,
      "outputs": [
        {
          "output_type": "stream",
          "name": "stdout",
          "text": [
            "1109\n",
            "1108\n"
          ]
        }
      ]
    },
    {
      "cell_type": "code",
      "source": [
        "X_train = X_train.astype('float32')\n",
        "X_test = X_test.astype('float32')\n",
        "y_train = y_train.astype('float32')\n",
        "y_test = y_test.astype('float32')"
      ],
      "metadata": {
        "id": "XlF6UVIx0Fwl"
      },
      "execution_count": 9,
      "outputs": []
    },
    {
      "cell_type": "code",
      "source": [
        "X_train = torch.from_numpy(X_train)\n",
        "X_test = torch.from_numpy(X_test)\n",
        "y_train =torch.from_numpy(y_train)\n",
        "y_test =torch.from_numpy(y_test)"
      ],
      "metadata": {
        "id": "TdLGkoQ1-inJ"
      },
      "execution_count": 10,
      "outputs": []
    },
    {
      "cell_type": "markdown",
      "source": [
        "Logistic Regression Model"
      ],
      "metadata": {
        "id": "SSIWHIrpuLxn"
      }
    },
    {
      "cell_type": "code",
      "source": [
        "# logistic regression class\n",
        "class LogisticRegression(nn.Module):\n",
        "    def __init__(self, n_input_features):\n",
        "        super(LogisticRegression, self).__init__()\n",
        "        self.linear = nn.Linear(n_input_features, 1)\n",
        "    \n",
        "    #sigmoid transformation of the input \n",
        "    def forward(self, x):\n",
        "        y_pred = torch.sigmoid(self.linear(x))\n",
        "        return y_pred"
      ],
      "metadata": {
        "id": "9SiVLtv_uO5s"
      },
      "execution_count": 11,
      "outputs": []
    },
    {
      "cell_type": "code",
      "source": [
        "lr = LogisticRegression(n_features)"
      ],
      "metadata": {
        "id": "5C9AfIAKxnxG"
      },
      "execution_count": 12,
      "outputs": []
    },
    {
      "cell_type": "code",
      "source": [
        "num_epochs = 500\n",
        "learning_rate = 0.0001 \n",
        "criterion = nn.BCELoss() # Binary cross Entropy loss                              \n",
        "optimizer = torch.optim.SGD(lr.parameters(), lr=learning_rate)  "
      ],
      "metadata": {
        "id": "s1NYg0PlyXrj"
      },
      "execution_count": 14,
      "outputs": []
    },
    {
      "cell_type": "code",
      "source": [
        "import torch\n",
        "class Foo:\n",
        "    def __init__(self, data):\n",
        "        self.data = data\n",
        "    def __len__(self):\n",
        "        return self.data.shape\n",
        "\n",
        "# myFoo = Foo(data=torch.rand(10, 20))\n",
        "# print(len(myFoo))"
      ],
      "metadata": {
        "id": "_Vm-LYo2uiGV"
      },
      "execution_count": 18,
      "outputs": []
    },
    {
      "cell_type": "code",
      "source": [
        "y_pred = lr(X_train)\n",
        "print(y_pred.size())\n",
        "print(y_train.size())"
      ],
      "metadata": {
        "colab": {
          "base_uri": "https://localhost:8080/"
        },
        "id": "s505_XNLt5-3",
        "outputId": "b24493bd-7865-49d0-ff84-87042b79b5e9"
      },
      "execution_count": 21,
      "outputs": [
        {
          "output_type": "stream",
          "name": "stdout",
          "text": [
            "torch.Size([2217, 1])\n",
            "torch.Size([2217])\n"
          ]
        }
      ]
    },
    {
      "cell_type": "code",
      "source": [
        "yy = y_pred.reshape([2217])\n",
        "\n",
        "print(yy.size())"
      ],
      "metadata": {
        "colab": {
          "base_uri": "https://localhost:8080/"
        },
        "id": "KzM7GpK-wcb_",
        "outputId": "c5e946d0-ad23-4941-b685-04f62c8c11de"
      },
      "execution_count": 24,
      "outputs": [
        {
          "output_type": "stream",
          "name": "stdout",
          "text": [
            "torch.Size([2217])\n"
          ]
        }
      ]
    },
    {
      "cell_type": "code",
      "source": [
        "error_loss = []\n",
        "for epoch in range(num_epochs):\n",
        "    train_loss = 0\n",
        "    optimizer.zero_grad()\n",
        "    y_pred = lr(X_train)\n",
        "    loss = criterion(y_pred.reshape(2217), y_train)             \n",
        "    loss.backward()\n",
        "    optimizer.step()\n",
        "    if (epoch+1) % 20 == 0:                                          \n",
        "        print(f'epoch: {epoch+1}, loss = {loss.item():.4f}')\n",
        "    train_loss += loss.item()*X_train.size(0)\n",
        "    error_loss.append(train_loss)\n",
        "total_loss = sum(error_loss)/len(error_loss)\n",
        "\n",
        "print(lr.parameters()) # printing learnable parameters (weights and biases)\n",
        "print(lr.state_dict) # pint dictionary of all parameters\n",
        "print(total_loss) # printing total loss in training the model"
      ],
      "metadata": {
        "colab": {
          "base_uri": "https://localhost:8080/"
        },
        "id": "aa7jsEuPyZ5p",
        "outputId": "f01b932b-0b5c-4188-b041-b488278c876f"
      },
      "execution_count": 25,
      "outputs": [
        {
          "output_type": "stream",
          "name": "stdout",
          "text": [
            "epoch: 20, loss = 6.7009\n",
            "epoch: 40, loss = 4.6716\n",
            "epoch: 60, loss = 3.4812\n",
            "epoch: 80, loss = 2.6198\n",
            "epoch: 100, loss = 2.1980\n",
            "epoch: 120, loss = 1.8175\n",
            "epoch: 140, loss = 1.4919\n",
            "epoch: 160, loss = 1.2821\n",
            "epoch: 180, loss = 1.0638\n",
            "epoch: 200, loss = 0.9094\n",
            "epoch: 220, loss = 0.7781\n",
            "epoch: 240, loss = 0.6700\n",
            "epoch: 260, loss = 0.5816\n",
            "epoch: 280, loss = 0.5095\n",
            "epoch: 300, loss = 0.4507\n",
            "epoch: 320, loss = 0.4024\n",
            "epoch: 340, loss = 0.3627\n",
            "epoch: 360, loss = 0.3299\n",
            "epoch: 380, loss = 0.3027\n",
            "epoch: 400, loss = 0.2798\n",
            "epoch: 420, loss = 0.2606\n",
            "epoch: 440, loss = 0.2443\n",
            "epoch: 460, loss = 0.2306\n",
            "epoch: 480, loss = 0.2190\n",
            "epoch: 500, loss = 0.2093\n",
            "<generator object Module.parameters at 0x7f9625c266d0>\n",
            "<bound method Module.state_dict of LogisticRegression(\n",
            "  (linear): Linear(in_features=13, out_features=1, bias=True)\n",
            ")>\n",
            "3267.3448665813803\n"
          ]
        }
      ]
    },
    {
      "cell_type": "code",
      "source": [
        "print(lr.parameters()) "
      ],
      "metadata": {
        "colab": {
          "base_uri": "https://localhost:8080/"
        },
        "id": "GlfMQgeAxJiD",
        "outputId": "fe87a9b4-033e-4c24-c86a-ea0c2458bd90"
      },
      "execution_count": 27,
      "outputs": [
        {
          "output_type": "stream",
          "name": "stdout",
          "text": [
            "<generator object Module.parameters at 0x7f9625be92d0>\n"
          ]
        }
      ]
    },
    {
      "cell_type": "code",
      "source": [
        "for name, param in lr.named_parameters():\n",
        "    if name in ['fc.weight', 'fc.bias']:\n",
        "        param.requires_grad = True\n",
        "    else:\n",
        "        param.requires_grad = False"
      ],
      "metadata": {
        "id": "Js56qd_6x19G"
      },
      "execution_count": 34,
      "outputs": []
    },
    {
      "cell_type": "code",
      "source": [
        "for name in lr.parameters():\n",
        "    print(name, ':', param.requires_grad)"
      ],
      "metadata": {
        "colab": {
          "base_uri": "https://localhost:8080/"
        },
        "id": "4BSufOqhyJvI",
        "outputId": "9e72cb61-cd60-41e3-cb9d-7ebaa311d203"
      },
      "execution_count": 36,
      "outputs": [
        {
          "output_type": "stream",
          "name": "stdout",
          "text": [
            "Parameter containing:\n",
            "tensor([[-0.0068, -0.0098,  0.1006,  0.0747, -0.0039,  0.1627,  0.2252,  0.1600,\n",
            "         -0.0861, -0.1513, -0.2190, -0.0024, -0.1800]]) : False\n",
            "Parameter containing:\n",
            "tensor([0.0897]) : False\n"
          ]
        }
      ]
    },
    {
      "cell_type": "code",
      "source": [
        "print(lr.state_dict)"
      ],
      "metadata": {
        "colab": {
          "base_uri": "https://localhost:8080/"
        },
        "id": "Y9t7XO8kxEwG",
        "outputId": "f14dd04e-6aab-41d5-e271-11dd9a6900e8"
      },
      "execution_count": 26,
      "outputs": [
        {
          "output_type": "stream",
          "name": "stdout",
          "text": [
            "<bound method Module.state_dict of LogisticRegression(\n",
            "  (linear): Linear(in_features=13, out_features=1, bias=True)\n",
            ")>\n"
          ]
        }
      ]
    },
    {
      "cell_type": "markdown",
      "source": [
        "Local Training on Client Update"
      ],
      "metadata": {
        "id": "sHkq4YVoi2Yw"
      }
    },
    {
      "cell_type": "code",
      "execution_count": null,
      "metadata": {
        "id": "oPf36pc0hwj2"
      },
      "outputs": [],
      "source": [
        "# Loading Dataset\n",
        "# class CustomDataset(Dataset):\n",
        "#   def __init__(self, dataset, idxs):\n",
        "#       self.dataset = dataset\n",
        "#       self.idxs = list(idxs)\n",
        "\n",
        "#   def __len__(self):\n",
        "#       return len(self.idxs)\n",
        "\n",
        "#   def __getitem__(self, item):\n",
        "#       image, label = self.dataset[self.idxs[item]]\n",
        "#       return image, label"
      ]
    },
    {
      "cell_type": "code",
      "source": [
        "# Client Side Training\n",
        "class ClientUpdate(object):\n",
        "  def __init__(self, dataset, learning_rate, epochs, idxs):\n",
        "    self.train_loader = DataLoader(dataset, shuffle=True)\n",
        "    self.learning_rate = learning_rate\n",
        "    self.epochs = epochs\n",
        "\n",
        "    criterion = nn.BCELoss()                                \n",
        "    optimizer = torch.optim.SGD(lr.parameters(), lr=learning_rate)  \n",
        "\n",
        "    error_loss = []\n",
        "    for epoch in range(self.epochs):\n",
        "      train_loss = 0\n",
        "      y_pred = lr(X_train)\n",
        "      for data, labels in self.train_loader:\n",
        "        if torch.cuda.is_available():\n",
        "          data, labels = data.cuda(), labels.cuda()\n",
        "        optimizer.zero_grad()\n",
        "        loss = criterion(y_pred, y_train)             \n",
        "        loss.backward()\n",
        "        optimizer.step()\n",
        "\n",
        "        if (epoch+1) % 20 == 0:                                         \n",
        "            print(f'epoch: {epoch+1}, loss = {loss.item():.4f}')\n",
        "        train_loss += loss.item()*data.size(0)\n",
        "        error_loss.append(train_loss)\n",
        "\n",
        "    total_loss = sum(error_loss)/len(error_loss)\n",
        "    return lr.state_dict(), total_loss"
      ],
      "metadata": {
        "id": "dQYB4jEL2qwZ"
      },
      "execution_count": null,
      "outputs": []
    },
    {
      "cell_type": "code",
      "source": [
        "# Server Side Training\n",
        "import time\n",
        "import copy\n",
        "import matplotlib.pyplot as plt\n",
        "\n",
        "def Server_training(model, rounds, lr, ds, C, K, E):\n",
        "\n",
        "  global_weights = model.state_dict()\n",
        "  train_loss = []\n",
        "  start = time.time()\n",
        "\n",
        "  for curr_round in range(1, rounds+1):\n",
        "    w, local_loss = [], []\n",
        "\n",
        "    m = max(int(C*K), 1)\n",
        "    \n",
        "    S_t = np.random.choice(range(K), m, replace=False)\n",
        "    for k in S_t:\n",
        "      local_update = ClientUpdate(dataset=ds, learning_rate=lr, epochs=E)\n",
        "      weights, loss = local_update.train(model=copy.deepcopy(model))\n",
        "\n",
        "      w.append(copy.deepcopy(weights))\n",
        "      local_loss.append(copy.deepcopy(loss))\n",
        "\n",
        "    # updating the global weights\n",
        "    weights_avg = copy.deepcopy(w[0])\n",
        "    for k in weights_avg.keys():\n",
        "      for i in range(1, len(w)):\n",
        "        weights_avg[k] += w[i][k]\n",
        "\n",
        "      weights_avg[k] = torch.div(weights_avg[k], len(w))\n",
        "\n",
        "    global_weights = weights_avg\n",
        "\n",
        "    # move the updated weights to our model state dict\n",
        "    model.load_state_dict(global_weights)\n",
        "\n",
        "    # loss\n",
        "    loss_avg = sum(local_loss) / len(local_loss)\n",
        "    print('Round: {}... \\tAverage Loss: {}'.format(curr_round, round(loss_avg, 3)))\n",
        "    train_loss.append(loss_avg)\n",
        "\n",
        "  end = time.time()\n",
        "  fig, ax = plt.subplots()\n",
        "  x_axis = np.arange(1, rounds+1)\n",
        "  y_axis = np.array(train_loss)\n",
        "  ax.plot(x_axis, y_axis, 'tab:'+'r')\n",
        "\n",
        "  ax.set(xlabel='Number of Rounds', ylabel='Train Loss',\n",
        "       title=\"TrainLoss vs Epochs plot\")\n",
        "  ax.grid()\n",
        "  fig.savefig('TrainLoss_vs_Epochs_plot\".jpg', format='jpg')\n",
        "  print(\"Training Done!\")\n",
        "  print(\"Total time taken to Train: {}\".format(end-start))\n",
        "  return model\n",
        "\n"
      ],
      "metadata": {
        "id": "RT4Xexcn4oLF"
      },
      "execution_count": null,
      "outputs": []
    }
  ]
}